{
  "nbformat": 4,
  "nbformat_minor": 0,
  "metadata": {
    "colab": {
      "provenance": [],
      "authorship_tag": "ABX9TyMUwuE4PK+C+32cIPVunAQV",
      "include_colab_link": true
    },
    "kernelspec": {
      "name": "python3",
      "display_name": "Python 3"
    },
    "language_info": {
      "name": "python"
    }
  },
  "cells": [
    {
      "cell_type": "markdown",
      "metadata": {
        "id": "view-in-github",
        "colab_type": "text"
      },
      "source": [
        "<a href=\"https://colab.research.google.com/github/joshuaalpuerto/ML-guide/blob/main/Transformer_from_scratch.ipynb\" target=\"_parent\"><img src=\"https://colab.research.google.com/assets/colab-badge.svg\" alt=\"Open In Colab\"/></a>"
      ]
    },
    {
      "cell_type": "markdown",
      "source": [],
      "metadata": {
        "id": "Yi2ecr2NnAmp"
      }
    },
    {
      "cell_type": "markdown",
      "source": [
        "# Why?\n",
        "\n",
        "- I'm curious of how transformer architecture look like under the hood.\n",
        "- I wanted to know why things work and improve myself as Machine learning engineer."
      ],
      "metadata": {
        "id": "Ox4TV2vxnBff"
      }
    },
    {
      "cell_type": "markdown",
      "source": [
        "## Input embeddings"
      ],
      "metadata": {
        "id": "ujzdHZfYNepr"
      }
    },
    {
      "cell_type": "code",
      "source": [
        "# Create a simple vocabulary\n",
        "tokens_to_ids = {\n",
        "    \"What\": 1,\n",
        "    \"is\": 2,\n",
        "    \"the\": 3,\n",
        "    \"answer\": 5,\n",
        "    \"of\": 6,\n",
        "    \"life\": 7,\n",
        "    \"42\": 8,\n",
        "    \"<EOS>\": 9\n",
        "}\n",
        "\n",
        "id_to_token = dict(map(reversed, tokens_to_ids.items()))"
      ],
      "metadata": {
        "id": "yw2g3KJcNgte"
      },
      "execution_count": 2,
      "outputs": []
    },
    {
      "cell_type": "code",
      "source": [
        "id_to_token\n",
        "#"
      ],
      "metadata": {
        "colab": {
          "base_uri": "https://localhost:8080/"
        },
        "id": "ayL1Xpo1N9rR",
        "outputId": "b36912ac-b322-4e14-db84-54fd770b962e"
      },
      "execution_count": 3,
      "outputs": [
        {
          "output_type": "execute_result",
          "data": {
            "text/plain": [
              "{1: 'What',\n",
              " 2: 'is',\n",
              " 3: 'the',\n",
              " 5: 'answer',\n",
              " 6: 'of',\n",
              " 7: 'life',\n",
              " 8: '42',\n",
              " 9: '<EOS>'}"
            ]
          },
          "metadata": {},
          "execution_count": 3
        }
      ]
    }
  ]
}