{
  "nbformat": 4,
  "nbformat_minor": 0,
  "metadata": {
    "colab": {
      "provenance": [],
      "authorship_tag": "ABX9TyN02dh7meP6BUNXYDS3hWyq",
      "include_colab_link": true
    },
    "kernelspec": {
      "name": "python3",
      "display_name": "Python 3"
    },
    "language_info": {
      "name": "python"
    }
  },
  "cells": [
    {
      "cell_type": "markdown",
      "metadata": {
        "id": "view-in-github",
        "colab_type": "text"
      },
      "source": [
        "<a href=\"https://colab.research.google.com/github/joshuaalpuerto/ML-guide/blob/main/Autogen.ipynb\" target=\"_parent\"><img src=\"https://colab.research.google.com/assets/colab-badge.svg\" alt=\"Open In Colab\"/></a>"
      ]
    },
    {
      "cell_type": "code",
      "execution_count": 2,
      "metadata": {
        "colab": {
          "base_uri": "https://localhost:8080/"
        },
        "id": "floj_kP83H_t",
        "outputId": "82f0ea8b-5b84-4d38-b7e2-aeaf903cec70"
      },
      "outputs": [
        {
          "output_type": "stream",
          "name": "stdout",
          "text": [
            "Python 3.10.12\n"
          ]
        }
      ],
      "source": [
        "!python --version"
      ]
    },
    {
      "cell_type": "code",
      "source": [
        "# install specific version because latest version uses new version of openAI w/c is incompatible with fireworks api\n",
        "!pip install -q pyautogen===0.1.14 --progress-bar off"
      ],
      "metadata": {
        "id": "mnYOSfR-3XyJ",
        "colab": {
          "base_uri": "https://localhost:8080/"
        },
        "outputId": "3224e428-c530-4ff8-b185-69e3ca41a88b"
      },
      "execution_count": 3,
      "outputs": [
        {
          "output_type": "stream",
          "name": "stdout",
          "text": [
            "\u001b[31mERROR: pip's dependency resolver does not currently take into account all the packages that are installed. This behaviour is the source of the following dependency conflicts.\n",
            "llmx 0.0.15a0 requires cohere, which is not installed.\n",
            "llmx 0.0.15a0 requires tiktoken, which is not installed.\u001b[0m\u001b[31m\n",
            "\u001b[0m"
          ]
        }
      ]
    },
    {
      "cell_type": "code",
      "source": [
        "import openai\n",
        "openai.__version__"
      ],
      "metadata": {
        "colab": {
          "base_uri": "https://localhost:8080/",
          "height": 35
        },
        "id": "L9gFhwLiOIe0",
        "outputId": "5d2da801-e38a-402a-8bb2-08647cfd3b6c"
      },
      "execution_count": 4,
      "outputs": [
        {
          "output_type": "execute_result",
          "data": {
            "text/plain": [
              "'0.28.1'"
            ],
            "application/vnd.google.colaboratory.intrinsic+json": {
              "type": "string"
            }
          },
          "metadata": {},
          "execution_count": 4
        }
      ]
    },
    {
      "cell_type": "code",
      "source": [
        "# @title load fireworks API key\n",
        "#connect to google drive\n",
        "from google.colab import drive\n",
        "import json\n",
        "import os\n",
        "\n",
        "drive.mount('/content/drive')\n",
        "\n",
        "with open('/content/drive/MyDrive/env/env.json') as jsonfile:\n",
        "    env = json.load(jsonfile)\n",
        "\n",
        "os.environ[\"FIREWORKS_API_KEY\"] = env['fireworks.ai']['apiKey']"
      ],
      "metadata": {
        "colab": {
          "base_uri": "https://localhost:8080/"
        },
        "id": "icyS4vMq3Xsh",
        "outputId": "bf4f56be-c0cb-4f70-cbe0-17cd2201ce38"
      },
      "execution_count": 5,
      "outputs": [
        {
          "output_type": "stream",
          "name": "stdout",
          "text": [
            "Mounted at /content/drive\n"
          ]
        }
      ]
    },
    {
      "cell_type": "code",
      "source": [
        "import openai\n",
        "\n",
        "# This is required to make it work for old version of openai < 1\n",
        "openai.api_base = \"https://api.fireworks.ai/inference/v1\"\n",
        "openai.api_key = env['fireworks.ai']['apiKey']"
      ],
      "metadata": {
        "id": "79R9iQ1R4ZMr"
      },
      "execution_count": 6,
      "outputs": []
    },
    {
      "cell_type": "code",
      "source": [
        "config_list=[\n",
        "  {\n",
        "    \"model\": \"accounts/fireworks/models/mistral-7b-instruct-4k\",\n",
        "    \"api_type\": \"open_ai\",\n",
        "    \"api_key\": env['fireworks.ai']['apiKey']\n",
        "  },\n",
        "  # {\n",
        "  #   \"model\": \"accounts/fireworks/models/mixtral-8x7b-instruct\",\n",
        "  #   \"api_type\": \"open_ai\",\n",
        "  #   \"api_key\": env['fireworks.ai']['apiKey']\n",
        "  # }\n",
        "]\n",
        "\n",
        "# configuration for autogen's enhanced inference API which is compatible with OpenAI API\n",
        "llm_config = {\n",
        "  \"seed\": 42,  # seed for caching and reproducibility\n",
        "  \"config_list\": config_list,  # a list of OpenAI API configurations\n",
        "  \"temperature\": 0,  # temperature for sampling,\n",
        "  \"max_tokens\": 4096\n",
        "}"
      ],
      "metadata": {
        "id": "clEW7qcOB2SB"
      },
      "execution_count": 17,
      "outputs": []
    },
    {
      "cell_type": "code",
      "source": [
        "import autogen\n",
        "# create an AssistantAgent named \"assistant\"\n",
        "assistant = autogen.AssistantAgent(\n",
        "    name=\"assistant\",\n",
        "    llm_config=llm_config\n",
        ")\n",
        "# create a UserProxyAgent instance named \"user_proxy\"\n",
        "user_proxy = autogen.UserProxyAgent(\n",
        "    name=\"user_proxy\",\n",
        "    human_input_mode=\"NEVER\",\n",
        "    max_consecutive_auto_reply=10,\n",
        "    is_termination_msg=lambda x: x.get(\"content\", \"\").rstrip().endswith(\"TERMINATE\"),\n",
        "    code_execution_config={\n",
        "        \"work_dir\": \"coding\",\n",
        "        \"use_docker\": False,  # set to True or image name like \"python:3\" to use docker\n",
        "    },\n",
        "    system_message=\"\"\"Reply TERMINATE if the task has been solved at full satisfaction. Otherwise, reply CONTINUE, or the reason why the task is not solved yet\"\"\"\n",
        ")\n",
        "# the assistant receives a message from the user_proxy, which contains the task description\n",
        "user_proxy.initiate_chat(\n",
        "    assistant,\n",
        "    message=\"\"\"What date is today? Compare the year-to-date gain for META and TESLA.\"\"\",\n",
        ")"
      ],
      "metadata": {
        "colab": {
          "base_uri": "https://localhost:8080/"
        },
        "id": "Cv7WsSgYCYYt",
        "outputId": "26150fda-2d63-4ac3-ff84-138da027d464"
      },
      "execution_count": 18,
      "outputs": [
        {
          "output_type": "stream",
          "name": "stdout",
          "text": [
            "user_proxy (to assistant):\n",
            "\n",
            "What date is today? Compare the year-to-date gain for META and TESLA.\n",
            "\n",
            "--------------------------------------------------------------------------------\n",
            "assistant (to user_proxy):\n",
            "\n",
            "To get the current date, you can use the `datetime` module in Python. To compare the year-to-date gain for META and TESLA, you can use the `yfinance` library to retrieve stock data and calculate the gain. Here's the code:\n",
            "```python\n",
            "import datetime\n",
            "import yfinance as yf\n",
            "\n",
            "# Get the current date\n",
            "today = datetime.date.today()\n",
            "print(\"Today's date:\", today)\n",
            "\n",
            "# Retrieve stock data for META and TESLA\n",
            "meta_data = yf.Ticker(\"META\").history(period=\"1y\")\n",
            "tesla_data = yf.Ticker(\"TSLA\").history(period=\"1y\")\n",
            "\n",
            "# Calculate the year-to-date gain for META and TESLA\n",
            "meta_gain = (meta_data.iloc[-1] - meta_data.iloc[0]) / meta_data.iloc[0] * 100\n",
            "tesla_gain = (tesla_data.iloc[-1] - tesla_data.iloc[0]) / tesla_data.iloc[0] * 100\n",
            "\n",
            "# Print the year-to-date gain for META and TESLA\n",
            "print(\"Year-to-date gain for META:\", meta_gain, \"%\")\n",
            "print(\"Year-to-date gain for TESLA:\", tesla_gain, \"%\")\n",
            "```\n",
            "This code retrieves the stock data for META and TESLA for the past year, calculates the year-to-date gain for each stock, and prints the result. Note that the `yfinance` library requires an internet connection to retrieve stock data.\n",
            "\n",
            "--------------------------------------------------------------------------------\n",
            "\n",
            ">>>>>>>> EXECUTING CODE BLOCK 0 (inferred language is python)...\n",
            "user_proxy (to assistant):\n",
            "\n",
            "exitcode: 0 (execution succeeded)\n",
            "Code output: \n",
            "Today's date: 2024-01-04\n",
            "Year-to-date gain for META: Open            170.827460\n",
            "High            169.624180\n",
            "Low             172.689707\n",
            "Close           170.448295\n",
            "Volume          -52.343265\n",
            "Dividends              NaN\n",
            "Stock Splits           NaN\n",
            "dtype: float64 %\n",
            "Year-to-date gain for TESLA: Open            124.525703\n",
            "High            114.399163\n",
            "Low             119.791680\n",
            "Close           109.829284\n",
            "Volume          -33.044975\n",
            "Dividends              NaN\n",
            "Stock Splits           NaN\n",
            "dtype: float64 %\n",
            "\n",
            "\n",
            "--------------------------------------------------------------------------------\n",
            "assistant (to user_proxy):\n",
            "\n",
            "TERMINATE\n",
            "\n",
            "--------------------------------------------------------------------------------\n"
          ]
        }
      ]
    },
    {
      "cell_type": "code",
      "source": [
        "!python 'coding/stock_gains.py'"
      ],
      "metadata": {
        "colab": {
          "base_uri": "https://localhost:8080/"
        },
        "id": "2ZQq4-OqLxxD",
        "outputId": "753698ab-0ea5-4eb6-ebab-93fef9b90036"
      },
      "execution_count": 19,
      "outputs": [
        {
          "output_type": "stream",
          "name": "stdout",
          "text": [
            "Today's date is: 2024-01-04\n",
            "FB: No timezone found, symbol may be delisted\n",
            "Traceback (most recent call last):\n",
            "  File \"/content/coding/stock_gains.py\", line 16, in <module>\n",
            "    close_price = data['Close'][-1]\n",
            "  File \"/usr/local/lib/python3.10/dist-packages/pandas/core/series.py\", line 978, in __getitem__\n",
            "    return self._values[key]\n",
            "IndexError: index -1 is out of bounds for axis 0 with size 0\n"
          ]
        }
      ]
    }
  ]
}