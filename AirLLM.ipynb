{
  "nbformat": 4,
  "nbformat_minor": 0,
  "metadata": {
    "colab": {
      "provenance": [],
      "authorship_tag": "ABX9TyNvUAigr2c/Mgc1R/sJynjO",
      "include_colab_link": true
    },
    "kernelspec": {
      "name": "python3",
      "display_name": "Python 3"
    },
    "language_info": {
      "name": "python"
    }
  },
  "cells": [
    {
      "cell_type": "markdown",
      "metadata": {
        "id": "view-in-github",
        "colab_type": "text"
      },
      "source": [
        "<a href=\"https://colab.research.google.com/github/joshuaalpuerto/ML-guide/blob/main/AirLLM.ipynb\" target=\"_parent\"><img src=\"https://colab.research.google.com/assets/colab-badge.svg\" alt=\"Open In Colab\"/></a>"
      ]
    },
    {
      "cell_type": "markdown",
      "source": [
        "https://medium.com/@lyo.gavin/unbelievable-run-70b-llm-inference-on-a-single-4gb-gpu-with-this-new-technique-93e2057c7eeb"
      ],
      "metadata": {
        "id": "arCozi5zC4M4"
      }
    },
    {
      "cell_type": "code",
      "execution_count": null,
      "metadata": {
        "id": "z2IChRTqCtDO"
      },
      "outputs": [],
      "source": [
        "!pip install airllm"
      ]
    },
    {
      "cell_type": "code",
      "source": [
        "from airllm import AirLLMLlama2\n",
        "\n",
        "MAX_LENGTH = 128\n",
        "# could use hugging face model repo id:\n",
        "model = AirLLMLlama2(\"garage-bAInd/Platypus2-70B-instruct\")\n",
        "\n",
        "# or use model's local path...\n",
        "#model = AirLLMLlama2(\"/home/ubuntu/.cache/huggingface/hub/models--garage-bAInd--Platypus2-70B-instruct/snapshots/b585e74bcaae02e52665d9ac6d23f4d0dbc81a0f\")\n",
        "\n",
        "input_text = [\n",
        "        'What is the capital of United States?',\n",
        "    ]\n",
        "\n",
        "input_tokens = model.tokenizer(input_text,\n",
        "    return_tensors=\"pt\",\n",
        "    return_attention_mask=False,\n",
        "    truncation=True,\n",
        "    max_length=MAX_LENGTH,\n",
        "    padding=True)\n",
        "\n",
        "generation_output = model.generate(\n",
        "    input_tokens['input_ids'].cuda(),\n",
        "    max_new_tokens=2,\n",
        "    use_cache=True,\n",
        "    return_dict_in_generate=True)\n",
        "\n",
        "output = model.tokenizer.decode(generation_output.sequences[0])\n",
        "\n",
        "print(output)"
      ],
      "metadata": {
        "id": "zJgKDtWhCyLe"
      },
      "execution_count": null,
      "outputs": []
    }
  ]
}