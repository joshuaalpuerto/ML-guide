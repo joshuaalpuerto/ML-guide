{
  "nbformat": 4,
  "nbformat_minor": 0,
  "metadata": {
    "colab": {
      "provenance": [],
      "gpuType": "T4",
      "authorship_tag": "ABX9TyM2qvFV14LptTd2BqHYceSx",
      "include_colab_link": true
    },
    "kernelspec": {
      "name": "python3",
      "display_name": "Python 3"
    },
    "language_info": {
      "name": "python"
    },
    "accelerator": "GPU",
    "widgets": {
      "application/vnd.jupyter.widget-state+json": {
        "aedc39ff72c34bc883b2094b3b08e039": {
          "model_module": "@jupyter-widgets/controls",
          "model_name": "HBoxModel",
          "model_module_version": "1.5.0",
          "state": {
            "_dom_classes": [],
            "_model_module": "@jupyter-widgets/controls",
            "_model_module_version": "1.5.0",
            "_model_name": "HBoxModel",
            "_view_count": null,
            "_view_module": "@jupyter-widgets/controls",
            "_view_module_version": "1.5.0",
            "_view_name": "HBoxView",
            "box_style": "",
            "children": [
              "IPY_MODEL_1d9483dc80be44f38bd171c427425de0",
              "IPY_MODEL_64662420f7314ce4b5a9c83f43373d3d",
              "IPY_MODEL_8d7d5891b42a4d7e84bf147de9297793"
            ],
            "layout": "IPY_MODEL_87532930d0554fd5ad89b5316f3eb07b"
          }
        },
        "1d9483dc80be44f38bd171c427425de0": {
          "model_module": "@jupyter-widgets/controls",
          "model_name": "HTMLModel",
          "model_module_version": "1.5.0",
          "state": {
            "_dom_classes": [],
            "_model_module": "@jupyter-widgets/controls",
            "_model_module_version": "1.5.0",
            "_model_name": "HTMLModel",
            "_view_count": null,
            "_view_module": "@jupyter-widgets/controls",
            "_view_module_version": "1.5.0",
            "_view_name": "HTMLView",
            "description": "",
            "description_tooltip": null,
            "layout": "IPY_MODEL_82a91fa1c1d14c8ca7549978b535099a",
            "placeholder": "​",
            "style": "IPY_MODEL_dacbf742d53542898c99d2b746519164",
            "value": "Fetching 11 files: 100%"
          }
        },
        "64662420f7314ce4b5a9c83f43373d3d": {
          "model_module": "@jupyter-widgets/controls",
          "model_name": "FloatProgressModel",
          "model_module_version": "1.5.0",
          "state": {
            "_dom_classes": [],
            "_model_module": "@jupyter-widgets/controls",
            "_model_module_version": "1.5.0",
            "_model_name": "FloatProgressModel",
            "_view_count": null,
            "_view_module": "@jupyter-widgets/controls",
            "_view_module_version": "1.5.0",
            "_view_name": "ProgressView",
            "bar_style": "success",
            "description": "",
            "description_tooltip": null,
            "layout": "IPY_MODEL_21433db00282457499ceab5ca60f4ce3",
            "max": 11,
            "min": 0,
            "orientation": "horizontal",
            "style": "IPY_MODEL_6c0a1ea1a0f84f709c5217e6cf0b5668",
            "value": 11
          }
        },
        "8d7d5891b42a4d7e84bf147de9297793": {
          "model_module": "@jupyter-widgets/controls",
          "model_name": "HTMLModel",
          "model_module_version": "1.5.0",
          "state": {
            "_dom_classes": [],
            "_model_module": "@jupyter-widgets/controls",
            "_model_module_version": "1.5.0",
            "_model_name": "HTMLModel",
            "_view_count": null,
            "_view_module": "@jupyter-widgets/controls",
            "_view_module_version": "1.5.0",
            "_view_name": "HTMLView",
            "description": "",
            "description_tooltip": null,
            "layout": "IPY_MODEL_ab0c7f89aaf04c459b44bd3d7996dfa2",
            "placeholder": "​",
            "style": "IPY_MODEL_8b616197f6514e0a9298995a536d6dc7",
            "value": " 11/11 [00:00&lt;00:00, 275.88it/s]"
          }
        },
        "87532930d0554fd5ad89b5316f3eb07b": {
          "model_module": "@jupyter-widgets/base",
          "model_name": "LayoutModel",
          "model_module_version": "1.2.0",
          "state": {
            "_model_module": "@jupyter-widgets/base",
            "_model_module_version": "1.2.0",
            "_model_name": "LayoutModel",
            "_view_count": null,
            "_view_module": "@jupyter-widgets/base",
            "_view_module_version": "1.2.0",
            "_view_name": "LayoutView",
            "align_content": null,
            "align_items": null,
            "align_self": null,
            "border": null,
            "bottom": null,
            "display": null,
            "flex": null,
            "flex_flow": null,
            "grid_area": null,
            "grid_auto_columns": null,
            "grid_auto_flow": null,
            "grid_auto_rows": null,
            "grid_column": null,
            "grid_gap": null,
            "grid_row": null,
            "grid_template_areas": null,
            "grid_template_columns": null,
            "grid_template_rows": null,
            "height": null,
            "justify_content": null,
            "justify_items": null,
            "left": null,
            "margin": null,
            "max_height": null,
            "max_width": null,
            "min_height": null,
            "min_width": null,
            "object_fit": null,
            "object_position": null,
            "order": null,
            "overflow": null,
            "overflow_x": null,
            "overflow_y": null,
            "padding": null,
            "right": null,
            "top": null,
            "visibility": null,
            "width": null
          }
        },
        "82a91fa1c1d14c8ca7549978b535099a": {
          "model_module": "@jupyter-widgets/base",
          "model_name": "LayoutModel",
          "model_module_version": "1.2.0",
          "state": {
            "_model_module": "@jupyter-widgets/base",
            "_model_module_version": "1.2.0",
            "_model_name": "LayoutModel",
            "_view_count": null,
            "_view_module": "@jupyter-widgets/base",
            "_view_module_version": "1.2.0",
            "_view_name": "LayoutView",
            "align_content": null,
            "align_items": null,
            "align_self": null,
            "border": null,
            "bottom": null,
            "display": null,
            "flex": null,
            "flex_flow": null,
            "grid_area": null,
            "grid_auto_columns": null,
            "grid_auto_flow": null,
            "grid_auto_rows": null,
            "grid_column": null,
            "grid_gap": null,
            "grid_row": null,
            "grid_template_areas": null,
            "grid_template_columns": null,
            "grid_template_rows": null,
            "height": null,
            "justify_content": null,
            "justify_items": null,
            "left": null,
            "margin": null,
            "max_height": null,
            "max_width": null,
            "min_height": null,
            "min_width": null,
            "object_fit": null,
            "object_position": null,
            "order": null,
            "overflow": null,
            "overflow_x": null,
            "overflow_y": null,
            "padding": null,
            "right": null,
            "top": null,
            "visibility": null,
            "width": null
          }
        },
        "dacbf742d53542898c99d2b746519164": {
          "model_module": "@jupyter-widgets/controls",
          "model_name": "DescriptionStyleModel",
          "model_module_version": "1.5.0",
          "state": {
            "_model_module": "@jupyter-widgets/controls",
            "_model_module_version": "1.5.0",
            "_model_name": "DescriptionStyleModel",
            "_view_count": null,
            "_view_module": "@jupyter-widgets/base",
            "_view_module_version": "1.2.0",
            "_view_name": "StyleView",
            "description_width": ""
          }
        },
        "21433db00282457499ceab5ca60f4ce3": {
          "model_module": "@jupyter-widgets/base",
          "model_name": "LayoutModel",
          "model_module_version": "1.2.0",
          "state": {
            "_model_module": "@jupyter-widgets/base",
            "_model_module_version": "1.2.0",
            "_model_name": "LayoutModel",
            "_view_count": null,
            "_view_module": "@jupyter-widgets/base",
            "_view_module_version": "1.2.0",
            "_view_name": "LayoutView",
            "align_content": null,
            "align_items": null,
            "align_self": null,
            "border": null,
            "bottom": null,
            "display": null,
            "flex": null,
            "flex_flow": null,
            "grid_area": null,
            "grid_auto_columns": null,
            "grid_auto_flow": null,
            "grid_auto_rows": null,
            "grid_column": null,
            "grid_gap": null,
            "grid_row": null,
            "grid_template_areas": null,
            "grid_template_columns": null,
            "grid_template_rows": null,
            "height": null,
            "justify_content": null,
            "justify_items": null,
            "left": null,
            "margin": null,
            "max_height": null,
            "max_width": null,
            "min_height": null,
            "min_width": null,
            "object_fit": null,
            "object_position": null,
            "order": null,
            "overflow": null,
            "overflow_x": null,
            "overflow_y": null,
            "padding": null,
            "right": null,
            "top": null,
            "visibility": null,
            "width": null
          }
        },
        "6c0a1ea1a0f84f709c5217e6cf0b5668": {
          "model_module": "@jupyter-widgets/controls",
          "model_name": "ProgressStyleModel",
          "model_module_version": "1.5.0",
          "state": {
            "_model_module": "@jupyter-widgets/controls",
            "_model_module_version": "1.5.0",
            "_model_name": "ProgressStyleModel",
            "_view_count": null,
            "_view_module": "@jupyter-widgets/base",
            "_view_module_version": "1.2.0",
            "_view_name": "StyleView",
            "bar_color": null,
            "description_width": ""
          }
        },
        "ab0c7f89aaf04c459b44bd3d7996dfa2": {
          "model_module": "@jupyter-widgets/base",
          "model_name": "LayoutModel",
          "model_module_version": "1.2.0",
          "state": {
            "_model_module": "@jupyter-widgets/base",
            "_model_module_version": "1.2.0",
            "_model_name": "LayoutModel",
            "_view_count": null,
            "_view_module": "@jupyter-widgets/base",
            "_view_module_version": "1.2.0",
            "_view_name": "LayoutView",
            "align_content": null,
            "align_items": null,
            "align_self": null,
            "border": null,
            "bottom": null,
            "display": null,
            "flex": null,
            "flex_flow": null,
            "grid_area": null,
            "grid_auto_columns": null,
            "grid_auto_flow": null,
            "grid_auto_rows": null,
            "grid_column": null,
            "grid_gap": null,
            "grid_row": null,
            "grid_template_areas": null,
            "grid_template_columns": null,
            "grid_template_rows": null,
            "height": null,
            "justify_content": null,
            "justify_items": null,
            "left": null,
            "margin": null,
            "max_height": null,
            "max_width": null,
            "min_height": null,
            "min_width": null,
            "object_fit": null,
            "object_position": null,
            "order": null,
            "overflow": null,
            "overflow_x": null,
            "overflow_y": null,
            "padding": null,
            "right": null,
            "top": null,
            "visibility": null,
            "width": null
          }
        },
        "8b616197f6514e0a9298995a536d6dc7": {
          "model_module": "@jupyter-widgets/controls",
          "model_name": "DescriptionStyleModel",
          "model_module_version": "1.5.0",
          "state": {
            "_model_module": "@jupyter-widgets/controls",
            "_model_module_version": "1.5.0",
            "_model_name": "DescriptionStyleModel",
            "_view_count": null,
            "_view_module": "@jupyter-widgets/base",
            "_view_module_version": "1.2.0",
            "_view_name": "StyleView",
            "description_width": ""
          }
        }
      }
    }
  },
  "cells": [
    {
      "cell_type": "markdown",
      "metadata": {
        "id": "view-in-github",
        "colab_type": "text"
      },
      "source": [
        "<a href=\"https://colab.research.google.com/github/joshuaalpuerto/ML-guide/blob/main/AirLLM.ipynb\" target=\"_parent\"><img src=\"https://colab.research.google.com/assets/colab-badge.svg\" alt=\"Open In Colab\"/></a>"
      ]
    },
    {
      "cell_type": "markdown",
      "source": [
        "## References\n",
        "- https://medium.com/@lyo.gavin/unbelievable-run-70b-llm-inference-on-a-single-4gb-gpu-with-this-new-technique-93e2057c7eeb\n",
        "- https://huggingface.co/blog/lyogavin/airllm"
      ],
      "metadata": {
        "id": "arCozi5zC4M4"
      }
    },
    {
      "cell_type": "code",
      "execution_count": 1,
      "metadata": {
        "id": "z2IChRTqCtDO"
      },
      "outputs": [],
      "source": [
        "!pip install -q airllm --progress-bar off"
      ]
    },
    {
      "cell_type": "markdown",
      "source": [
        "`NOTE:` The process of splitting model is very disk-consuming. If you encounter error, You may need to extend your disk space, clear huggingface .cache and rerun."
      ],
      "metadata": {
        "id": "fm0uL2uHRGTM"
      }
    },
    {
      "cell_type": "code",
      "source": [
        "from airllm import AirLLMMistral\n",
        "\n",
        "MAX_LENGTH = 128\n",
        "# could use hugging face model repo id:\n",
        "#\n",
        "model = AirLLMMistral(\"mistralai/Mistral-7B-Instruct-v0.1\")\n",
        "\n",
        "# or use model's local path...\n",
        "#model = AirLLMLlama2(\"/home/ubuntu/.cache/huggingface/hub/models--garage-bAInd--Platypus2-70B-instruct/snapshots/b585e74bcaae02e52665d9ac6d23f4d0dbc81a0f\")"
      ],
      "metadata": {
        "id": "zJgKDtWhCyLe",
        "colab": {
          "base_uri": "https://localhost:8080/",
          "height": 49,
          "referenced_widgets": [
            "aedc39ff72c34bc883b2094b3b08e039",
            "1d9483dc80be44f38bd171c427425de0",
            "64662420f7314ce4b5a9c83f43373d3d",
            "8d7d5891b42a4d7e84bf147de9297793",
            "87532930d0554fd5ad89b5316f3eb07b",
            "82a91fa1c1d14c8ca7549978b535099a",
            "dacbf742d53542898c99d2b746519164",
            "21433db00282457499ceab5ca60f4ce3",
            "6c0a1ea1a0f84f709c5217e6cf0b5668",
            "ab0c7f89aaf04c459b44bd3d7996dfa2",
            "8b616197f6514e0a9298995a536d6dc7"
          ]
        },
        "outputId": "a413b824-22e2-4e30-9779-61efa60d2161"
      },
      "execution_count": 3,
      "outputs": [
        {
          "output_type": "display_data",
          "data": {
            "text/plain": [
              "Fetching 11 files:   0%|          | 0/11 [00:00<?, ?it/s]"
            ],
            "application/vnd.jupyter.widget-view+json": {
              "version_major": 2,
              "version_minor": 0,
              "model_id": "aedc39ff72c34bc883b2094b3b08e039"
            }
          },
          "metadata": {}
        }
      ]
    },
    {
      "cell_type": "code",
      "source": [
        "MISTRAL_PROMPT_1 = \"\"\"<s>[INST] You are a friendly chatbot who always responds in the style of a pirate.\n",
        "How many helicopters can a human eat in one sitting?\n",
        "[/INST]\n",
        "\"\"\"\n",
        "\n",
        "ZEPHYR_PROMPT_1 = \"\"\"<|system|>\n",
        "You are a friendly chatbot who always responds in the style of a pirate.</s>\n",
        "<|user|>\n",
        "How many helicopters can a human eat in one sitting?</s>\n",
        "<|assistant|>\n",
        "\"\"\"\n",
        "\n",
        "input_text = [ MISTRAL_PROMPT_1 ]\n",
        "\n",
        "input_tokens = model.tokenizer(input_text,\n",
        "    return_tensors=\"pt\",\n",
        "    return_attention_mask=False,\n",
        "    truncation=True,\n",
        "    max_length=MAX_LENGTH\n",
        ")\n",
        "\n",
        "print(input_tokens)\n",
        "# generation_output = model.generate(\n",
        "#     input_tokens['input_ids'].cuda(),\n",
        "#     max_new_tokens=2,\n",
        "#     use_cache=True,\n",
        "#     return_dict_in_generate=True)\n",
        "\n",
        "# output = model.tokenizer.decode(generation_output.sequences[0])\n",
        "\n",
        "# print(output)"
      ],
      "metadata": {
        "id": "4535aqY2BkMs",
        "outputId": "a33b93c7-5086-4c92-8de2-6e15d682f043",
        "colab": {
          "base_uri": "https://localhost:8080/"
        }
      },
      "execution_count": 8,
      "outputs": [
        {
          "output_type": "stream",
          "name": "stdout",
          "text": [
            "{'input_ids': tensor([[    1,     1,   733, 16289, 28793,   995,   460,   264, 10131, 10706,\n",
            "         10093,   693,  1743,  2603,  3673,   297,   272,  3238,   302,   264,\n",
            "         17368,   380, 28723,    13,  5660,  1287, 19624,   410,  1532,   541,\n",
            "           264,  2930,  5310,   297,   624,  6398, 28804,    13, 28792, 28748,\n",
            "         16289, 28793,    13]])}\n"
          ]
        }
      ]
    }
  ]
}