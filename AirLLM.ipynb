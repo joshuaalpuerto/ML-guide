{
  "nbformat": 4,
  "nbformat_minor": 0,
  "metadata": {
    "colab": {
      "provenance": [],
      "gpuType": "T4",
      "authorship_tag": "ABX9TyN9IMX2zs/MvAvux+TVs+pI",
      "include_colab_link": true
    },
    "kernelspec": {
      "name": "python3",
      "display_name": "Python 3"
    },
    "language_info": {
      "name": "python"
    },
    "accelerator": "GPU"
  },
  "cells": [
    {
      "cell_type": "markdown",
      "metadata": {
        "id": "view-in-github",
        "colab_type": "text"
      },
      "source": [
        "<a href=\"https://colab.research.google.com/github/joshuaalpuerto/ML-guide/blob/main/AirLLM.ipynb\" target=\"_parent\"><img src=\"https://colab.research.google.com/assets/colab-badge.svg\" alt=\"Open In Colab\"/></a>"
      ]
    },
    {
      "cell_type": "markdown",
      "source": [
        "## References\n",
        "- https://medium.com/@lyo.gavin/unbelievable-run-70b-llm-inference-on-a-single-4gb-gpu-with-this-new-technique-93e2057c7eeb\n",
        "- https://huggingface.co/blog/lyogavin/airllm"
      ],
      "metadata": {
        "id": "arCozi5zC4M4"
      }
    },
    {
      "cell_type": "code",
      "execution_count": 1,
      "metadata": {
        "id": "z2IChRTqCtDO"
      },
      "outputs": [],
      "source": [
        "!pip install -qU airllm --progress-bar off\n",
        "# needed for compression\n",
        "!pip install -qU bitsandbytes --progress-bar off"
      ]
    },
    {
      "cell_type": "code",
      "source": [
        "from google.colab import drive\n",
        "drive.mount('/content/drive/')"
      ],
      "metadata": {
        "id": "Sh2vNt_FiRcM",
        "outputId": "4e5114d1-3ad1-4642-9c9f-24a06406f25e",
        "colab": {
          "base_uri": "https://localhost:8080/"
        }
      },
      "execution_count": 2,
      "outputs": [
        {
          "output_type": "stream",
          "name": "stdout",
          "text": [
            "Mounted at /content/drive/\n"
          ]
        }
      ]
    },
    {
      "cell_type": "markdown",
      "source": [
        "`NOTE:` The process of splitting model is very disk-consuming. If you encounter error, You may need to extend your disk space, clear huggingface .cache and rerun."
      ],
      "metadata": {
        "id": "fm0uL2uHRGTM"
      }
    },
    {
      "cell_type": "code",
      "source": [
        "import os\n",
        "# Move the cache to our drive because we need more space\n",
        "os.environ['HF_HOME'] = '/content/drive/MyDrive/huggingface'\n",
        "os.environ['TRANSFORMERS_CACHE'] = '/content/drive/MyDrive/huggingface/models'"
      ],
      "metadata": {
        "id": "xEAiEAuWiTyO"
      },
      "execution_count": 3,
      "outputs": []
    },
    {
      "cell_type": "markdown",
      "source": [
        "- Seems the optimization is about able to run the LLM with limited resources.\n",
        "    - But the speed of inference is slow\n",
        "- Tho it's not using quantization, you can still apply compression (bits and bytes) if you want to speed up the inference\n",
        "    - More info [here](https://github.com/lyogavin/Anima/tree/main/air_llm#how-model-compression-here-is-different-from-quantization)\n",
        "    - The difference of compression vs quantization:\n",
        "        - Quantization normally needs to quantize both `weights` and `activations` to really speed things up. Which makes it harder to maintain accuracy and avoid the impact of outliers in all kinds of inputs.\n",
        "        - AirLLM only compress `weights`"
      ],
      "metadata": {
        "id": "YErE3Nv0ihLU"
      }
    },
    {
      "cell_type": "code",
      "source": [
        "from airllm import AirLLMMistral\n",
        "\n",
        "MAX_LENGTH = 128\n",
        "# could use hugging face model repo id:\n",
        "#\n",
        "model = AirLLMMistral(\"mistralai/Mistral-7B-Instruct-v0.1\", compression='4bit')\n",
        "\n",
        "# or use model's local path...\n",
        "#model = AirLLMLlama2(\"/home/ubuntu/.cache/huggingface/hub/models--garage-bAInd--Platypus2-70B-instruct/snapshots/b585e74bcaae02e52665d9ac6d23f4d0dbc81a0f\")"
      ],
      "metadata": {
        "id": "zJgKDtWhCyLe"
      },
      "execution_count": null,
      "outputs": []
    },
    {
      "cell_type": "code",
      "source": [
        "MISTRAL_PROMPT_1 = \"\"\"<s>[INST] You are a friendly chatbot who always responds in the style of a pirate.\n",
        "How many helicopters can a human eat in one sitting?\n",
        "[/INST]\n",
        "\"\"\"\n",
        "\n",
        "ZEPHYR_PROMPT_1 = \"\"\"<|system|>\n",
        "You are a friendly chatbot who always responds in the style of a pirate.</s>\n",
        "<|user|>\n",
        "How many helicopters can a human eat in one sitting?</s>\n",
        "<|assistant|>\n",
        "\"\"\"\n",
        "\n",
        "input_text = [ MISTRAL_PROMPT_1 ]\n",
        "\n",
        "input_tokens = model.tokenizer(input_text,\n",
        "    return_tensors=\"pt\",\n",
        "    return_attention_mask=False,\n",
        "    truncation=True,\n",
        "    max_length=MAX_LENGTH\n",
        ")\n",
        "\n",
        "generation_output = model.generate(\n",
        "    input_tokens['input_ids'].cuda(),\n",
        "    use_cache=True,\n",
        "    return_dict_in_generate=True)\n",
        "\n",
        "output = model.tokenizer.decode(generation_output.sequences[0])\n"
      ],
      "metadata": {
        "id": "4535aqY2BkMs"
      },
      "execution_count": null,
      "outputs": []
    },
    {
      "cell_type": "code",
      "source": [
        "print(output)"
      ],
      "metadata": {
        "id": "Y7db_UWvSb-H"
      },
      "execution_count": null,
      "outputs": []
    }
  ]
}