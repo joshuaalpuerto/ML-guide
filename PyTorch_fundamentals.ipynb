{
  "nbformat": 4,
  "nbformat_minor": 0,
  "metadata": {
    "colab": {
      "provenance": [],
      "authorship_tag": "ABX9TyNRK/16N4lga65MPwe5xjkn",
      "include_colab_link": true
    },
    "kernelspec": {
      "name": "python3",
      "display_name": "Python 3"
    },
    "language_info": {
      "name": "python"
    }
  },
  "cells": [
    {
      "cell_type": "markdown",
      "metadata": {
        "id": "view-in-github",
        "colab_type": "text"
      },
      "source": [
        "<a href=\"https://colab.research.google.com/github/joshuaalpuerto/ML-guide/blob/main/PyTorch_fundamentals.ipynb\" target=\"_parent\"><img src=\"https://colab.research.google.com/assets/colab-badge.svg\" alt=\"Open In Colab\"/></a>"
      ]
    },
    {
      "cell_type": "code",
      "execution_count": 2,
      "metadata": {
        "colab": {
          "base_uri": "https://localhost:8080/"
        },
        "id": "O_YkwfAMlub9",
        "outputId": "5a2d0923-f847-40ea-90e5-4542bac4015b"
      },
      "outputs": [
        {
          "output_type": "stream",
          "name": "stdout",
          "text": [
            "2.4.0+cu121\n"
          ]
        }
      ],
      "source": [
        "import torch\n",
        "import pandas as pd\n",
        "import numpy as np\n",
        "import matplotlib.pyplot as plt\n",
        "\n",
        "print(torch.__version__)"
      ]
    },
    {
      "cell_type": "markdown",
      "source": [
        "# Tensors fundamentals\n",
        "\n",
        "Different kinds of tensors"
      ],
      "metadata": {
        "id": "T1SUElknmXsa"
      }
    },
    {
      "cell_type": "code",
      "source": [
        "scalar = torch.tensor(7)\n",
        "# Vector is a tensor with 1 dimension\n",
        "vector = torch.tensor([1,3])\n",
        "# Matrixes is a tensor with 2 dimension\n",
        "matrix = torch.tensor([[1,3], [1,3]])\n",
        "# tensors is a tensor with N dimension\n",
        "tensor = torch.tensor([[[1,3], [1,3]]])\n",
        "# To show  how many dimension your variable.\n",
        "print('Scalar', scalar.ndim, scalar.shape)\n",
        "print('Vector', vector.ndim, vector.shape)\n",
        "print('Matric', matrix.ndim, matrix.shape)\n",
        "print('Tensor', tensor.ndim, tensor.shape)"
      ],
      "metadata": {
        "colab": {
          "base_uri": "https://localhost:8080/"
        },
        "id": "lKEFLgx-mCm5",
        "outputId": "a7715afe-2f16-4207-b535-17ccf928bd87"
      },
      "execution_count": 13,
      "outputs": [
        {
          "output_type": "stream",
          "name": "stdout",
          "text": [
            "Scalar 0 torch.Size([])\n",
            "Vector 1 torch.Size([2])\n",
            "Matric 2 torch.Size([2, 2])\n",
            "Tensor 3 torch.Size([1, 2, 2])\n"
          ]
        }
      ]
    },
    {
      "cell_type": "code",
      "source": [
        "# To show  how many dimension your variable.\n"
      ],
      "metadata": {
        "id": "duRxwqbHmwF9"
      },
      "execution_count": 8,
      "outputs": []
    },
    {
      "cell_type": "code",
      "source": [],
      "metadata": {
        "id": "Be5jvCCWmfKP"
      },
      "execution_count": null,
      "outputs": []
    }
  ]
}