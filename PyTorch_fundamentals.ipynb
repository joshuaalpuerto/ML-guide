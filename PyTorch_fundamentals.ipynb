{
  "nbformat": 4,
  "nbformat_minor": 0,
  "metadata": {
    "colab": {
      "provenance": [],
      "authorship_tag": "ABX9TyOIM4KPjhdF9VEE++c2iYtX",
      "include_colab_link": true
    },
    "kernelspec": {
      "name": "python3",
      "display_name": "Python 3"
    },
    "language_info": {
      "name": "python"
    }
  },
  "cells": [
    {
      "cell_type": "markdown",
      "metadata": {
        "id": "view-in-github",
        "colab_type": "text"
      },
      "source": [
        "<a href=\"https://colab.research.google.com/github/joshuaalpuerto/ML-guide/blob/main/PyTorch_fundamentals.ipynb\" target=\"_parent\"><img src=\"https://colab.research.google.com/assets/colab-badge.svg\" alt=\"Open In Colab\"/></a>"
      ]
    },
    {
      "cell_type": "code",
      "execution_count": null,
      "metadata": {
        "colab": {
          "base_uri": "https://localhost:8080/"
        },
        "id": "O_YkwfAMlub9",
        "outputId": "5a2d0923-f847-40ea-90e5-4542bac4015b"
      },
      "outputs": [
        {
          "output_type": "stream",
          "name": "stdout",
          "text": [
            "2.4.0+cu121\n"
          ]
        }
      ],
      "source": [
        "import torch\n",
        "import pandas as pd\n",
        "import numpy as np\n",
        "import matplotlib.pyplot as plt\n",
        "\n",
        "print(torch.__version__)"
      ]
    },
    {
      "cell_type": "markdown",
      "source": [
        "# Tensors fundamentals\n",
        "\n",
        "Different kinds of tensors"
      ],
      "metadata": {
        "id": "T1SUElknmXsa"
      }
    },
    {
      "cell_type": "code",
      "source": [
        "scalar = torch.tensor(7)\n",
        "# Vector is a tensor with 1 dimension\n",
        "vector = torch.tensor([1,3])\n",
        "# Matrixes is a tensor with 2 dimension\n",
        "matrix = torch.tensor([[1,3], [1,3]])\n",
        "# tensors is a tensor with N dimension\n",
        "tensor = torch.tensor([[[1,3], [1,3]]])\n",
        "# To show  how many dimension your variable.\n",
        "print('Scalar', scalar.ndim, scalar.shape)\n",
        "print('Vector', vector.ndim, vector.shape)\n",
        "print('Matric', matrix.ndim, matrix.shape)\n",
        "print('Tensor', tensor.ndim, tensor.shape)"
      ],
      "metadata": {
        "colab": {
          "base_uri": "https://localhost:8080/"
        },
        "id": "lKEFLgx-mCm5",
        "outputId": "a7715afe-2f16-4207-b535-17ccf928bd87"
      },
      "execution_count": null,
      "outputs": [
        {
          "output_type": "stream",
          "name": "stdout",
          "text": [
            "Scalar 0 torch.Size([])\n",
            "Vector 1 torch.Size([2])\n",
            "Matric 2 torch.Size([2, 2])\n",
            "Tensor 3 torch.Size([1, 2, 2])\n"
          ]
        }
      ]
    },
    {
      "cell_type": "code",
      "source": [
        "# Random tensors\n",
        "# note that in NN it usually starts with random weights and biases and adjust those tensors as the model learns.\n",
        "# Imagine your have 3 inputs(batch) with 4 neurons.\n",
        "random_tensor = torch.rand(3,4)\n",
        "print(random_tensor)"
      ],
      "metadata": {
        "colab": {
          "base_uri": "https://localhost:8080/"
        },
        "id": "duRxwqbHmwF9",
        "outputId": "b8edf583-3870-471f-ac28-edff7138522a"
      },
      "execution_count": null,
      "outputs": [
        {
          "output_type": "stream",
          "name": "stdout",
          "text": [
            "tensor([[0.2418, 0.8829, 0.3848, 0.2068],\n",
            "        [0.5418, 0.6821, 0.5270, 0.0945],\n",
            "        [0.7540, 0.6033, 0.8212, 0.8355]])\n"
          ]
        }
      ]
    },
    {
      "cell_type": "code",
      "source": [
        "# @title Datatypes\n",
        "\n",
        "# By default tensors dtype is 32 (32bits or 4bytes)\n",
        "# note that when say single precision === 32 bits, so half precision == 16bit\n",
        "float_32_tensors = torch.tensor([3.14159265, 6.28318531, 9.42477796], dtype=None, device=None, requires_grad=False)\n",
        "\n",
        "# Setting to dtype float 16 (16bits or 2bytes)\n",
        "# Output will only have less bytes\n",
        "float_16_tensors = torch.tensor([3.14159265, 6.28318531, 9.42477796], dtype=torch.float16, device=None, requires_grad=False)\n",
        "\n",
        "print(\", \".join(f\"{x:.10f}\" for x in float_32_tensors.tolist()), float_32_tensors.dtype)\n",
        "print(\", \".join(f\"{x:.10f}\" for x in float_16_tensors.tolist()), float_16_tensors.dtype)"
      ],
      "metadata": {
        "colab": {
          "base_uri": "https://localhost:8080/"
        },
        "id": "Be5jvCCWmfKP",
        "outputId": "8a7fc52e-ede5-4d59-cb08-c7fd08f927f4"
      },
      "execution_count": null,
      "outputs": [
        {
          "output_type": "stream",
          "name": "stdout",
          "text": [
            "3.1415927410, 6.2831854820, 9.4247779846 torch.float32\n",
            "3.1406250000, 6.2812500000, 9.4218750000 torch.float16\n"
          ]
        }
      ]
    }
  ]
}