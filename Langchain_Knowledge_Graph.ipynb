{
  "nbformat": 4,
  "nbformat_minor": 0,
  "metadata": {
    "colab": {
      "provenance": [],
      "toc_visible": true,
      "authorship_tag": "ABX9TyNJXG1Zf0fJoty5Nss3NL7b",
      "include_colab_link": true
    },
    "kernelspec": {
      "name": "python3",
      "display_name": "Python 3"
    },
    "language_info": {
      "name": "python"
    }
  },
  "cells": [
    {
      "cell_type": "markdown",
      "metadata": {
        "id": "view-in-github",
        "colab_type": "text"
      },
      "source": [
        "<a href=\"https://colab.research.google.com/github/joshuaalpuerto/ML-guide/blob/main/Langchain_Knowledge_Graph.ipynb\" target=\"_parent\"><img src=\"https://colab.research.google.com/assets/colab-badge.svg\" alt=\"Open In Colab\"/></a>"
      ]
    },
    {
      "cell_type": "code",
      "execution_count": 1,
      "metadata": {
        "id": "ihUh7QBobixZ"
      },
      "outputs": [],
      "source": [
        "!pip install -qU langchain --progress-bar off\n",
        "!pip install -qU langchainhub --progress-bar off\n",
        "!pip install -qU openai --progress-bar off"
      ]
    },
    {
      "cell_type": "code",
      "source": [
        "# @title Connect to google drive\n",
        "from google.colab import drive\n",
        "import os\n",
        "import json\n",
        "\n",
        "drive.mount('/content/drive')\n",
        "\n",
        "with open('/content/drive/MyDrive/env/env.json') as jsonfile:\n",
        "    env = json.load(jsonfile)"
      ],
      "metadata": {
        "colab": {
          "base_uri": "https://localhost:8080/"
        },
        "id": "G8UesQEBdjsp",
        "outputId": "4c556bb2-5e06-4ec4-a2d2-c376056b98cf"
      },
      "execution_count": 2,
      "outputs": [
        {
          "output_type": "stream",
          "name": "stdout",
          "text": [
            "Mounted at /content/drive\n"
          ]
        }
      ]
    },
    {
      "cell_type": "code",
      "source": [
        "# @title Load llm\n",
        "from langchain.chat_models import ChatOpenAI\n",
        "\n",
        "llm = ChatOpenAI(model=\"mistralai/mistral-7b-instruct:free\",\n",
        "  openai_api_key=env['openrouter.ai']['apiKey'],\n",
        "  openai_api_base=\"https://openrouter.ai/api/v1\",\n",
        "  temperature= 0, max_tokens= 4096\n",
        ")"
      ],
      "metadata": {
        "id": "e-Sd4Eyxdm7c"
      },
      "execution_count": 28,
      "outputs": []
    },
    {
      "cell_type": "markdown",
      "source": [
        "# Graph creation"
      ],
      "metadata": {
        "id": "dRSu_FPfdx2x"
      }
    },
    {
      "cell_type": "code",
      "source": [
        "from langchain.prompts import PromptTemplate\n",
        "from langchain.graphs.networkx_graph import KG_TRIPLE_DELIMITER\n",
        "from langchain.indexes.prompts.knowledge_triplet_extraction import (\n",
        "    KNOWLEDGE_TRIPLE_EXTRACTION_PROMPT,\n",
        ")\n",
        "from langchain.chains import LLMChain\n",
        "\n",
        "# We need to customize because of the model we are going to use.\n",
        "# Prompt template for knowledge triple extraction\n",
        "_DEFAULT_KNOWLEDGE_TRIPLE_EXTRACTION_TEMPLATE = (\n",
        "    \"<s>[INST]You are a networked intelligence helping a human track knowledge triples\"\n",
        "    \" about all relevant people, things, concepts, etc. and integrating\"\n",
        "    \" them with your knowledge stored within your weights\"\n",
        "    \" as well as that stored in a knowledge graph.\"\n",
        "    \" Extract all of the knowledge triples base on user wrapped in ```.\"\n",
        "    \" A knowledge triple is a clause that contains a subject, a predicate,\"\n",
        "    \" and an object. The subject is the entity being described,\"\n",
        "    \" the predicate is the property of the subject that is being\"\n",
        "    \" described, and the object is the value of the property.\\n\\n\"\n",
        "    \" If you do your best work I'll tip you $10,000!\\n\\n\"\n",
        "    \"EXAMPLE\\n\"\n",
        "    \"User: Nevada is a state in the US. It's also the number 1 producer of gold in the US.\\n\"\n",
        "    f\"Output: (Nevada, is a, state){KG_TRIPLE_DELIMITER}(Nevada, is in, US)\"\n",
        "    f\"{KG_TRIPLE_DELIMITER}(Nevada, is the number 1 producer of, gold)\\n\"\n",
        "    \"END OF EXAMPLE\\n\\n\"\n",
        "    \"EXAMPLE\\n\"\n",
        "    \"User: Descartes likes to drive antique scooters and play the mandolin.\\n\"\n",
        "    f\"Output: (Descartes, likes to drive, antique scooters){KG_TRIPLE_DELIMITER}(Descartes, plays, mandolin)\\n\"\n",
        "    \"END OF EXAMPLE\\n\\n\"\n",
        "    \"User: ```{input}```\\n\"\n",
        "    \"Output: [/INST]\"\n",
        ")\n",
        "\n",
        "KNOWLEDGE_TRIPLE_EXTRACTION_PROMPT = PromptTemplate(\n",
        "    input_variables=[\"input\"],\n",
        "    template=_DEFAULT_KNOWLEDGE_TRIPLE_EXTRACTION_TEMPLATE,\n",
        ")\n",
        "\n",
        "# Create an LLMChain using the knowledge triple extraction prompt\n",
        "chain = LLMChain(llm=llm, prompt=KNOWLEDGE_TRIPLE_EXTRACTION_PROMPT)"
      ],
      "metadata": {
        "id": "TTrjFFgGdz93"
      },
      "execution_count": 62,
      "outputs": []
    },
    {
      "cell_type": "code",
      "source": [
        "# Run the chain with the specified text\n",
        "text = \"The city of Paris is the capital and most populous city of France. The Eiffel Tower is a famous landmark in Paris.\"\n",
        "triples = chain.invoke(\n",
        "    {'input' : text}\n",
        ")\n",
        "triples"
      ],
      "metadata": {
        "colab": {
          "base_uri": "https://localhost:8080/"
        },
        "id": "8pVssEf0eD0T",
        "outputId": "51836d00-81dc-49b8-e745-f0953a1d892d"
      },
      "execution_count": 65,
      "outputs": [
        {
          "output_type": "execute_result",
          "data": {
            "text/plain": [
              "{'input': 'The city of Paris is the capital and most populous city of France. The Eiffel Tower is a famous landmark in Paris.',\n",
              " 'text': '(Paris, is the capital of, France)\\n<|>(Paris, is the most populous city of, France)\\n<|>(Eiffel Tower, is a famous landmark in, Paris)'}"
            ]
          },
          "metadata": {},
          "execution_count": 65
        }
      ]
    },
    {
      "cell_type": "code",
      "source": [
        "from pprint import pprint\n",
        "\n",
        "def parse_triples(response, delimiter=KG_TRIPLE_DELIMITER):\n",
        "    if not response:\n",
        "        return []\n",
        "    return response.split(delimiter)\n",
        "\n",
        "triples_list = parse_triples(triples.get(\"text\"))\n",
        "\n",
        "pprint(triples_list)"
      ],
      "metadata": {
        "colab": {
          "base_uri": "https://localhost:8080/"
        },
        "id": "U22TY4TTeM0-",
        "outputId": "199ba3cf-8e02-4350-f5a6-c6a3bd688e05"
      },
      "execution_count": 66,
      "outputs": [
        {
          "output_type": "stream",
          "name": "stdout",
          "text": [
            "['(Paris, is the capital of, France)\\n',\n",
            " '(Paris, is the most populous city of, France)\\n',\n",
            " '(Eiffel Tower, is a famous landmark in, Paris)']\n"
          ]
        }
      ]
    },
    {
      "cell_type": "code",
      "source": [
        "# @title Sample document\n",
        "\n",
        "DOCUMENT = \"\"\"\n",
        "When the Talent does have a Portuguese company contract\n",
        "Check what is the Nationality of the Talent?\n",
        "If the talent is a Nationality of EU or FRA, Talent can travel to portugal and start working and the  needs to submit the following documents\n",
        "                               \t\tValid ID document, Proof of address (lease agreement) and Work contract\n",
        "                                  If the talent is not a Nationality of EU or FRA, check where the talent is residing ?\n",
        " If the talent is legally residing in EU and not in Portugal, check the talent permit type\n",
        " If the talent holds a blue card permit less than 18 months,\n",
        "                    Talent can wait to complete 18 months or start the visa process.\n",
        "If the talent holds a blue card permit greater than 18 months, Talent can travel to portugal and start working and the talent needs to submit the following documents\n",
        "                               Valid ID document,\n",
        "      Proof of address (lease agreement) and\n",
        "      Work contract\n",
        "If the  talent holds a regular permit then the stay in Portugal needs to be checked.\n",
        "If the talent is legally residing in EU and in Portugal, the talent might qualify for a employment permit\n",
        "If the talent is not legally residing in the EU, check if the stay in Portugal is longer than 12 months . If longer than 12 months, check the talent employment type. If the employment type is a contractor, talent may qualify for a self employment visa.  If the employment type is new employment, then check if the academic background is related to work in Portugal and if it is related, check the years of experience.  If the experience is less than 4, the talent may qualify for a regular employment visa.  If the experience is greater than 4 , check the talent monthly salary. If monthly salary is above 1500, the talent may qualify for a Highly qualified employment Visa.  If it is less than 1500, the talent may qualify for a regular employment visa\n",
        "On the other hand if the  employment type is new employment, and when the academic background is not related to work in Portugal, the talent may qualify for a regular employment visa\n",
        "If the talent is not legally residing in the EU and if the stay in Portugal is shorter than 12 months, Talent might qualify for a temporary stay visa\n",
        "\n",
        "\n",
        "\n",
        "When the Talent does not have a Portuguese company contract\n",
        "Check the nationality of the Talent.\n",
        "If the talent Nationality is EU, the talent can travel to PT and start working as an independent worker.\n",
        "If the talent Nationality is NON EU, check where is the talent legally residing ?\n",
        "If the talent is legally residing in Portugal, the talent might qualify for a self employment permit.\n",
        "If the talent is legally residing in other countries, check if the stay in Portugal is longer than 12 months.\n",
        "If the stay is longer, check the talent’s employment type .\n",
        "If it is New employment, then please contact us for further analysis of your options.\n",
        "The talent's employment type is an extension of employment, check how much time has the talent been employed by the sending company?\n",
        "                                                 - If it is 12 months or longer, Talent might qualify for an ICT\n",
        "                                                 -  If it is shorter than 12 months, check the talent’s monthly salary\n",
        " If salary greater than 3040 Talent may qualify for a digital nomad visa .\n",
        "If salary is less than 3040, then please contact us for further analysis of your options.\n",
        "The talent’s employment type is contractor, check the talent’s monthly salary\n",
        " If salary greater than 3040 Talent may qualify for a digital nomad visa .\n",
        "If salary is less than 3040, then please contact us for further analysis of your options.\n",
        "\"\"\""
      ],
      "metadata": {
        "id": "lZLbQnv0eYgM"
      },
      "execution_count": null,
      "outputs": []
    }
  ]
}