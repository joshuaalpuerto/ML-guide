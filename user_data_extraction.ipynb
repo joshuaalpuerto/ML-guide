{
  "nbformat": 4,
  "nbformat_minor": 0,
  "metadata": {
    "colab": {
      "provenance": [],
      "authorship_tag": "ABX9TyN74TOLML5WPajSumaZup6P",
      "include_colab_link": true
    },
    "kernelspec": {
      "name": "python3",
      "display_name": "Python 3"
    },
    "language_info": {
      "name": "python"
    }
  },
  "cells": [
    {
      "cell_type": "markdown",
      "metadata": {
        "id": "view-in-github",
        "colab_type": "text"
      },
      "source": [
        "<a href=\"https://colab.research.google.com/github/joshuaalpuerto/ML-guide/blob/main/user_data_extraction.ipynb\" target=\"_parent\"><img src=\"https://colab.research.google.com/assets/colab-badge.svg\" alt=\"Open In Colab\"/></a>"
      ]
    },
    {
      "cell_type": "code",
      "execution_count": 1,
      "metadata": {
        "id": "MNTwluKrBZbf"
      },
      "outputs": [],
      "source": [
        "!pip install -qU langchain --progress-bar off\n",
        "!pip install -qU langchainhub --progress-bar off\n",
        "!pip install -qU duckduckgo-search --progress-bar off\n",
        "!pip install -qU fireworks-ai --progress-bar off\n",
        "!pip install -qU openai --progress-bar off\n",
        "!pip install -qU langchain-fireworks --progress-bar off"
      ]
    },
    {
      "cell_type": "code",
      "source": [
        "# @title load fireworks API key\n",
        "#connect to google drive\n",
        "from google.colab import drive\n",
        "import json\n",
        "import os\n",
        "\n",
        "\n",
        "drive.mount('/content/drive')\n",
        "\n",
        "with open('/content/drive/MyDrive/env/env.json') as jsonfile:\n",
        "    env = json.load(jsonfile)\n",
        "\n",
        "os.environ[\"FIREWORKS_API_KEY\"] = env['fireworks.ai']['apiKey']\n"
      ],
      "metadata": {
        "colab": {
          "base_uri": "https://localhost:8080/"
        },
        "id": "tK_jTFArFvk7",
        "outputId": "b7ab4ccb-cb8c-4d63-f216-78561a721cfd",
        "cellView": "form"
      },
      "execution_count": 2,
      "outputs": [
        {
          "output_type": "stream",
          "name": "stdout",
          "text": [
            "Mounted at /content/drive\n"
          ]
        }
      ]
    },
    {
      "cell_type": "code",
      "source": [
        "import openai\n",
        "# This is required to make it work for old version of openai < 1\n",
        "openai.api_base = \"https://api.fireworks.ai/inference/v1\"\n",
        "openai.api_key = env['fireworks.ai']['apiKey']"
      ],
      "metadata": {
        "id": "MvF8EFRQ-fY7"
      },
      "execution_count": 3,
      "outputs": []
    },
    {
      "cell_type": "code",
      "source": [
        "from langchain.globals import set_llm_cache, set_debug\n",
        "from langchain.cache import InMemoryCache\n",
        "\n",
        "set_llm_cache(InMemoryCache())\n",
        "# Turn this on only if you want to debug other wise it's hard to see the conversations.\n",
        "set_debug(True)"
      ],
      "metadata": {
        "id": "Lbgcn10nHIuB"
      },
      "execution_count": 4,
      "outputs": []
    },
    {
      "cell_type": "code",
      "source": [
        "from pydantic import BaseModel, Field\n",
        "from langchain.agents import tool\n",
        "from langchain.tools import BaseTool\n",
        "from typing import Optional, Literal, Type\n",
        "from typing_extensions import Annotated\n",
        "\n",
        "from enum import Enum\n",
        "from pydantic import BaseModel, Field\n",
        "\n",
        "\n",
        "YesNoEnum = Literal[\"yes\", \"no\", \"unsure\", \"n/a\"]\n",
        "ResidenceEnum = Literal[\"european\", \"non european\", \"portugal\", \"unsure\", \"n/a\"]\n",
        "StayPeriodEnum = Literal[\"more than 12 months\", \"less than 12 months\", \"n/a\"]\n",
        "BlueCardDurationEnum = Literal[\"more than 18 months\", \"less than 18 months\", \"n/a\"]\n",
        "SalaryEnum = Literal[\"above 1500\", \"below 1500\", \"n/a\"]\n",
        "WorkExpEnum = Literal[\"more than 4 years\", \"less than 4 years\", \"n/a\"]\n",
        "EmploymentTypeEnum = Literal[\"contractor\", \"new employment\", \"extension of employment\", \"n/a\"]\n",
        "CurrentlyEmployedEnum = Literal[\"more than 12 months\", \"less than 12 months\", \"n/a\"]\n",
        "\n",
        "class ApplicantDataInput(BaseModel):\n",
        "    has_work_contract: Optional[YesNoEnum] = Field(\n",
        "        description=\"Indicates whether the applicant has a work contract.\",\n",
        "    )\n",
        "\n",
        "    is_european: Optional[YesNoEnum] = Field(\n",
        "        description=\"Indicates whether the applicant's nationality is in any country that is a member of European member state.\",\n",
        "    )\n",
        "\n",
        "    residence: Optional[ResidenceEnum] = Field(\n",
        "        description=\"Indicates whether the applicant is residence in any country that is member of European member state.\",\n",
        "    )\n",
        "\n",
        "    intended_stay_in_portugal: Optional[StayPeriodEnum] = Field(\n",
        "        description=\"Specifies the intended duration of the applicant's stay in Portugal, if applicable\",\n",
        "    )\n",
        "\n",
        "    has_blue_card: Optional[YesNoEnum] = Field(\n",
        "        description=\"Indicates whether the applicant holds an EU Blue Card.\",\n",
        "    )\n",
        "\n",
        "    blue_card_duration: Optional[BlueCardDurationEnum] = Field(\n",
        "        description=\"Specifies the duration of the EU Blue Card, if applicable.\",\n",
        "    )\n",
        "\n",
        "    salary: Optional[SalaryEnum] = Field(\n",
        "        description=\"Specifies the applicant's salary level.\",\n",
        "    )\n",
        "\n",
        "    work_experience: Optional[WorkExpEnum] = Field(\n",
        "        description=\"Specifies the applicant's years of work experience, if applicable.\",\n",
        "    )\n",
        "\n",
        "    is_work_related: Optional[YesNoEnum] = Field(\n",
        "        description=\"Indicates whether the applicant's work experience is related to the current application.\"\n",
        "    )\n",
        "\n",
        "    employment_type: Optional[EmploymentTypeEnum] = Field(\n",
        "        description=\"Specifies the type of employment sought by the applicant, if applicable.\",\n",
        "    )\n",
        "\n",
        "    duration_of_current_employment: Optional[CurrentlyEmployedEnum] = Field(\n",
        "        description=\"Specifies the duration of the applicant's current employment, if applicable.\"\n",
        "    )\n",
        "\n",
        "\n",
        "\n",
        "class Visa_Recommender(BaseTool):\n",
        "    name = \"visa_recommender\"\n",
        "    description = \"Recommend possible visa the user is applicable base on current data provided.\"\n",
        "    args_schema: Type[BaseModel] = ApplicantDataInput\n",
        "    return_direct = True\n",
        "\n",
        "    def _run(\n",
        "        self,\n",
        "        has_work_contract='n/a',\n",
        "        is_european_citizen='n/a',\n",
        "        current_residence='n/a',\n",
        "        # intended_stay_in_portugal='n/a',\n",
        "        # has_blue_card='n/a',\n",
        "        # blue_card_duration='n/a',\n",
        "        # salary='n/a',\n",
        "        # work_experience='n/a',\n",
        "        # is_work_related='n/a',\n",
        "        # employment_type='n/a',\n",
        "        # duration_of_current_employment='n/a',\n",
        "    ) -> str:\n",
        "        pass"
      ],
      "metadata": {
        "id": "vdZ7F5YcPwhB"
      },
      "execution_count": 8,
      "outputs": []
    },
    {
      "cell_type": "code",
      "source": [
        "from langchain.tools.render import format_tool_to_openai_function\n",
        "visa_recommender = Visa_Recommender()\n",
        "functions = [visa_recommender]\n",
        "tools = [{ \"type\": \"function\", \"function\": format_tool_to_openai_function(f)} for f in functions]\n",
        "\n",
        "print(tools)"
      ],
      "metadata": {
        "colab": {
          "base_uri": "https://localhost:8080/"
        },
        "id": "vcLk6n9OiN9S",
        "outputId": "3a026510-355d-4a51-84bf-eab1b821056f"
      },
      "execution_count": 9,
      "outputs": [
        {
          "output_type": "stream",
          "name": "stdout",
          "text": [
            "[{'type': 'function', 'function': {'name': 'visa_recommender', 'description': 'Recommend possible visa the user is applicable base on current data provided.', 'parameters': {'properties': {'has_work_contract': {'anyOf': [{'enum': ['yes', 'no', 'unsure', 'n/a'], 'type': 'string'}, {'type': 'null'}], 'description': 'Indicates whether the applicant has a work contract.'}, 'is_european': {'anyOf': [{'enum': ['yes', 'no', 'unsure', 'n/a'], 'type': 'string'}, {'type': 'null'}], 'description': \"Indicates whether the applicant's nationality is in any country that is a member of European member state.\"}, 'residence': {'anyOf': [{'enum': ['european', 'non european', 'portugal', 'unsure', 'n/a'], 'type': 'string'}, {'type': 'null'}], 'description': 'Indicates whether the applicant is residence in any country that is member of European member state.'}, 'intended_stay_in_portugal': {'anyOf': [{'enum': ['more than 12 months', 'less than 12 months', 'n/a'], 'type': 'string'}, {'type': 'null'}], 'description': \"Specifies the intended duration of the applicant's stay in Portugal, if applicable\"}, 'has_blue_card': {'anyOf': [{'enum': ['yes', 'no', 'unsure', 'n/a'], 'type': 'string'}, {'type': 'null'}], 'description': 'Indicates whether the applicant holds an EU Blue Card.'}, 'blue_card_duration': {'anyOf': [{'enum': ['more than 18 months', 'less than 18 months', 'n/a'], 'type': 'string'}, {'type': 'null'}], 'description': 'Specifies the duration of the EU Blue Card, if applicable.'}, 'salary': {'anyOf': [{'enum': ['above 1500', 'below 1500', 'n/a'], 'type': 'string'}, {'type': 'null'}], 'description': \"Specifies the applicant's salary level.\"}, 'work_experience': {'anyOf': [{'enum': ['more than 4 years', 'less than 4 years', 'n/a'], 'type': 'string'}, {'type': 'null'}], 'description': \"Specifies the applicant's years of work experience, if applicable.\"}, 'is_work_related': {'anyOf': [{'enum': ['yes', 'no', 'unsure', 'n/a'], 'type': 'string'}, {'type': 'null'}], 'description': \"Indicates whether the applicant's work experience is related to the current application.\"}, 'employment_type': {'anyOf': [{'enum': ['contractor', 'new employment', 'extension of employment', 'n/a'], 'type': 'string'}, {'type': 'null'}], 'description': 'Specifies the type of employment sought by the applicant, if applicable.'}, 'duration_of_current_employment': {'anyOf': [{'enum': ['more than 12 months', 'less than 12 months', 'n/a'], 'type': 'string'}, {'type': 'null'}], 'description': \"Specifies the duration of the applicant's current employment, if applicable.\"}}, 'required': ['has_work_contract', 'is_european', 'residence', 'intended_stay_in_portugal', 'has_blue_card', 'blue_card_duration', 'salary', 'work_experience', 'is_work_related', 'employment_type', 'duration_of_current_employment'], 'type': 'object'}}}]\n"
          ]
        }
      ]
    },
    {
      "cell_type": "code",
      "source": [
        "from langchain.chat_models import ChatOpenAI\n",
        "from langchain.callbacks import StdOutCallbackHandler\n",
        "from langchain.callbacks.base import BaseCallbackHandler\n",
        "from langchain_core.prompts import ChatPromptTemplate, MessagesPlaceholder\n",
        "from langchain.tools.render import format_tool_to_openai_function\n",
        "from textwrap import dedent\n",
        "\n",
        "\n",
        "# Initialize a Fireworks chat model\n",
        "# For function calling we cannot use ChatFireworks integration as it doesn't properly pass functions\n",
        "llm = ChatOpenAI(model=\"accounts/fireworks/models/firefunction-v1\",\n",
        "                 openai_api_key=env['fireworks.ai']['apiKey'],\n",
        "                 openai_api_base=\"https://api.fireworks.ai/inference/v1\",\n",
        "                 temperature= 0, max_tokens= 4096,\n",
        "                 model_kwargs={ \"tools\":tools, \"tool_choice\": {\"type\": \"function\", \"function\": {\"name\":visa_recommender.name}} }\n",
        "                )\n",
        "\n",
        "\n",
        "prompt = ChatPromptTemplate.from_messages(\n",
        "    [\n",
        "        (\"user\", dedent(\"\"\"\\\n",
        "You are an intelligent extractor. You will receive a user message.\n",
        "From the user message you need carefully extract the values for the corresponding fields.\n",
        "\n",
        "If you do your BEST WORK, I'll give you a $10,000 tip!\n",
        "\n",
        "User Message: {input}\n",
        "\"\"\")),\n",
        "    ]\n",
        ")\n",
        "\n",
        "chain = prompt | llm\n",
        "\n",
        "chain.invoke({\n",
        "    \"input\": dedent(\"\"\"\n",
        "    I have an applicant who has a valid work contract for portugal, with spanish nationality, residence of Philippines and with salary of 4000 euros.\n",
        "    \"\"\"),\n",
        "    \"tools\": [function.name for function in functions]\n",
        "})"
      ],
      "metadata": {
        "id": "BAR5wJNVGW0C",
        "colab": {
          "base_uri": "https://localhost:8080/"
        },
        "outputId": "d250e3a7-62a0-4f30-f341-007c5ecf7dde"
      },
      "execution_count": 11,
      "outputs": [
        {
          "output_type": "stream",
          "name": "stdout",
          "text": [
            "\u001b[32;1m\u001b[1;3m[chain/start]\u001b[0m \u001b[1m[1:chain:RunnableSequence] Entering Chain run with input:\n",
            "\u001b[0m{\n",
            "  \"input\": \"\\nI have an applicant who has a valid work contract for portugal, with spanish nationality,\\n\",\n",
            "  \"tools\": [\n",
            "    \"visa_recommender\"\n",
            "  ]\n",
            "}\n",
            "\u001b[32;1m\u001b[1;3m[chain/start]\u001b[0m \u001b[1m[1:chain:RunnableSequence > 2:prompt:ChatPromptTemplate] Entering Prompt run with input:\n",
            "\u001b[0m{\n",
            "  \"input\": \"\\nI have an applicant who has a valid work contract for portugal, with spanish nationality,\\n\",\n",
            "  \"tools\": [\n",
            "    \"visa_recommender\"\n",
            "  ]\n",
            "}\n",
            "\u001b[36;1m\u001b[1;3m[chain/end]\u001b[0m \u001b[1m[1:chain:RunnableSequence > 2:prompt:ChatPromptTemplate] [1ms] Exiting Prompt run with output:\n",
            "\u001b[0m[outputs]\n",
            "\u001b[32;1m\u001b[1;3m[llm/start]\u001b[0m \u001b[1m[1:chain:RunnableSequence > 3:llm:ChatOpenAI] Entering LLM run with input:\n",
            "\u001b[0m{\n",
            "  \"prompts\": [\n",
            "    \"Human: You are an intelligent extractor. You will receive a user message.\\nFrom the user message you need carefully extract the values for the corresponding fields.\\n\\nIf you do your BEST WORK, I'll give you a $10,000 tip!\\n\\nUser Message: \\nI have an applicant who has a valid work contract for portugal, with spanish nationality,\"\n",
            "  ]\n",
            "}\n",
            "\u001b[36;1m\u001b[1;3m[llm/end]\u001b[0m \u001b[1m[1:chain:RunnableSequence > 3:llm:ChatOpenAI] [2.21s] Exiting LLM run with output:\n",
            "\u001b[0m{\n",
            "  \"generations\": [\n",
            "    [\n",
            "      {\n",
            "        \"text\": \"\",\n",
            "        \"generation_info\": {\n",
            "          \"finish_reason\": \"tool_calls\",\n",
            "          \"logprobs\": null\n",
            "        },\n",
            "        \"type\": \"ChatGeneration\",\n",
            "        \"message\": {\n",
            "          \"lc\": 1,\n",
            "          \"type\": \"constructor\",\n",
            "          \"id\": [\n",
            "            \"langchain\",\n",
            "            \"schema\",\n",
            "            \"messages\",\n",
            "            \"AIMessage\"\n",
            "          ],\n",
            "          \"kwargs\": {\n",
            "            \"content\": \"\",\n",
            "            \"additional_kwargs\": {\n",
            "              \"tool_calls\": [\n",
            "                {\n",
            "                  \"id\": \"call_xnm27iPLDfdEqXR5udVZKX29\",\n",
            "                  \"function\": {\n",
            "                    \"arguments\": \"{\\\"has_work_contract\\\": \\\"yes\\\", \\\"is_european\\\": \\\"no\\\", \\\"residence\\\": \\\"portugal\\\", \\\"intended_stay_in_portugal\\\": \\\"less than 12 months\\\", \\\"has_blue_card\\\": \\\"n/a\\\", \\\"blue_card_duration\\\": \\\"n/a\\\", \\\"salary\\\": \\\"n/a\\\", \\\"work_experience\\\": \\\"n/a\\\", \\\"is_work_related\\\": \\\"n/a\\\", \\\"employment_type\\\": \\\"n/a\\\", \\\"duration_of_current_employment\\\": \\\"n/a\\\"}\",\n",
            "                    \"name\": \"visa_recommender\"\n",
            "                  },\n",
            "                  \"type\": \"function\",\n",
            "                  \"index\": 0\n",
            "                }\n",
            "              ]\n",
            "            }\n",
            "          }\n",
            "        }\n",
            "      }\n",
            "    ]\n",
            "  ],\n",
            "  \"llm_output\": {\n",
            "    \"token_usage\": {\n",
            "      \"completion_tokens\": 149,\n",
            "      \"prompt_tokens\": 1740,\n",
            "      \"total_tokens\": 1889\n",
            "    },\n",
            "    \"model_name\": \"accounts/fireworks/models/firefunction-v1\",\n",
            "    \"system_fingerprint\": null\n",
            "  },\n",
            "  \"run\": null\n",
            "}\n",
            "\u001b[36;1m\u001b[1;3m[chain/end]\u001b[0m \u001b[1m[1:chain:RunnableSequence] [2.21s] Exiting Chain run with output:\n",
            "\u001b[0m[outputs]\n"
          ]
        },
        {
          "output_type": "execute_result",
          "data": {
            "text/plain": [
              "AIMessage(content='', additional_kwargs={'tool_calls': [{'id': 'call_xnm27iPLDfdEqXR5udVZKX29', 'function': {'arguments': '{\"has_work_contract\": \"yes\", \"is_european\": \"no\", \"residence\": \"portugal\", \"intended_stay_in_portugal\": \"less than 12 months\", \"has_blue_card\": \"n/a\", \"blue_card_duration\": \"n/a\", \"salary\": \"n/a\", \"work_experience\": \"n/a\", \"is_work_related\": \"n/a\", \"employment_type\": \"n/a\", \"duration_of_current_employment\": \"n/a\"}', 'name': 'visa_recommender'}, 'type': 'function', 'index': 0}]}, response_metadata={'finish_reason': 'tool_calls', 'logprobs': None})"
            ]
          },
          "metadata": {},
          "execution_count": 11
        }
      ]
    },
    {
      "cell_type": "markdown",
      "source": [
        "# Mistral testing\n",
        "\n",
        "NOTE: It extracts data well compared to function calling"
      ],
      "metadata": {
        "id": "H6kHM1Mhrvlt"
      }
    },
    {
      "cell_type": "code",
      "source": [
        "from langchain import PromptTemplate\n",
        "\n",
        "SYSTEM_PROMPT = \"\"\"<s>[INST] You are an intelligent extractor. You will receive a user message.\n",
        "From the user message you need carefully extract the values for the corresponding fields.\n",
        "You MUST not include the field in your final output if user does not provide the information for that specific field.\n",
        "{{\n",
        "       \"has_work_contract\": \"Indicates whether the applicant has a work contract. (Yes | No)\",\n",
        "       \"is_european_citizen\": \"Indicates whether the nationality of the applicant is part of  European union. (Yes | No)\",\n",
        "       \"residence\": \"Indicates whether the applicant is residence in any European member state country. (European | Non European)\",\n",
        "       \"intended_stay_in_portugal\": \"Specifies the intended duration of the applicant's stay in Portugal. (more than 12 months | less than 12 months)\",\n",
        "       \"has_blue_card\": \"Indicates whether the applicant are holding an EU Blue Card. (Yes | No)\",\n",
        "       \"blue_card_duration\": \"Specifies the duration of the EU Blue Card. (more than 18 months | less than 18 months)\",\n",
        "       \"salary\": \"Specifies the applicant's salary level. (above 1500 | below 1500)\",\n",
        "       \"work_experience\": \"Specifies the applicant's years of work experience. (more than 4 years | less than 4 years)\",\n",
        "       \"is_work_related\": \"Indicates whether the applicant's work experience is related to the current application. (Yes | No)\",\n",
        "       \"employment_type\": \"Specifies the type of employment sought by the applicant. (contractor | new employment | extension of employment)\",\n",
        "       \"duration_of_current_employment\": \"Specifies the duration of the applicant's current employment. (more than 12 months | less than 12 months)\"\n",
        "}}\n",
        "\n",
        "You MUST follow the rules below when generating your answer:\n",
        "1. You must explain your answer first.\n",
        "2. Your output should always be a json with the fields and values extracted from the user message.\n",
        "3. Your output should remove fields which has null values.\n",
        "\n",
        "If you do your BEST WORK, I'll give you a $10,000 tip!\n",
        "\n",
        "User Message: {input}[/INST]\"\"\"\n",
        "\n",
        "prompt = PromptTemplate(template=SYSTEM_PROMPT, input_variables=['input'])"
      ],
      "metadata": {
        "id": "cE6vUxSe0kFd"
      },
      "execution_count": null,
      "outputs": []
    },
    {
      "cell_type": "code",
      "source": [
        "from langchain_fireworks import Fireworks\n",
        "\n",
        "# Initialize a Fireworks chat model\n",
        "# For function calling we cannot use ChatFireworks integration as it doesn't properly pass functions\n",
        "mixtral_llm = Fireworks(\n",
        "      model=\"accounts/fireworks/models/mixtral-8x7b-instruct\",\n",
        "      fireworks_api_key=env['fireworks.ai']['apiKey'],\n",
        "      base_url=\"https://api.fireworks.ai/inference/v1/completions\",\n",
        "      temperature= 0, max_tokens= 4096\n",
        "    )\n",
        "\n",
        "chain = prompt | mixtral_llm\n",
        "\n",
        "# \"I have an applicant who has a valid work contract, a greek national, currently residing in the Philippines and salary of 4000 euros.\"\n",
        "# \"My applicant is in Japan and will be back to his residence is Spain next month. He has a salary of 4000 euros.\" (confused)\n",
        "chain.invoke({\n",
        "    \"input\": \"My applicant is in Japan and will be back to his residence is Spain next month. He has a salary of 4000 euros.\",\n",
        "})"
      ],
      "metadata": {
        "colab": {
          "base_uri": "https://localhost:8080/",
          "height": 698
        },
        "id": "ncYpU8W_r1Sj",
        "outputId": "047b3131-68ea-4e13-af6e-e596e55de4e8"
      },
      "execution_count": null,
      "outputs": [
        {
          "output_type": "stream",
          "name": "stdout",
          "text": [
            "\u001b[32;1m\u001b[1;3m[chain/start]\u001b[0m \u001b[1m[1:chain:RunnableSequence] Entering Chain run with input:\n",
            "\u001b[0m{\n",
            "  \"input\": \"My applicant is in Japan and will be back to his residence is Spain next month. He has a salary of 4000 euros.\"\n",
            "}\n",
            "\u001b[32;1m\u001b[1;3m[chain/start]\u001b[0m \u001b[1m[1:chain:RunnableSequence > 2:prompt:PromptTemplate] Entering Prompt run with input:\n",
            "\u001b[0m{\n",
            "  \"input\": \"My applicant is in Japan and will be back to his residence is Spain next month. He has a salary of 4000 euros.\"\n",
            "}\n",
            "\u001b[36;1m\u001b[1;3m[chain/end]\u001b[0m \u001b[1m[1:chain:RunnableSequence > 2:prompt:PromptTemplate] [1ms] Exiting Prompt run with output:\n",
            "\u001b[0m[outputs]\n",
            "\u001b[32;1m\u001b[1;3m[llm/start]\u001b[0m \u001b[1m[1:chain:RunnableSequence > 3:llm:Fireworks] Entering LLM run with input:\n",
            "\u001b[0m{\n",
            "  \"prompts\": [\n",
            "    \"<s>[INST] You are an intelligent extractor. You will receive a user message. \\nFrom the user message you need carefully extract the values for the corresponding fields. \\nYou MUST not include the field in your final output if user does not provide the information for that specific field.\\n{\\n       \\\"has_work_contract\\\": \\\"Indicates whether the applicant has a work contract. (Yes | No)\\\",\\n       \\\"is_european_citizen\\\": \\\"Indicates whether the nationality of the applicant is part of  European union. (Yes | No)\\\",\\n       \\\"residence\\\": \\\"Indicates whether the applicant is residence in any European member state country. (European | Non European)\\\",\\n       \\\"intended_stay_in_portugal\\\": \\\"Specifies the intended duration of the applicant's stay in Portugal. (more than 12 months | less than 12 months)\\\",\\n       \\\"has_blue_card\\\": \\\"Indicates whether the applicant are holding an EU Blue Card. (Yes | No)\\\",\\n       \\\"blue_card_duration\\\": \\\"Specifies the duration of the EU Blue Card. (more than 18 months | less than 18 months)\\\",\\n       \\\"salary\\\": \\\"Specifies the applicant's salary level. (above 1500 | below 1500)\\\",\\n       \\\"work_experience\\\": \\\"Specifies the applicant's years of work experience. (more than 4 years | less than 4 years)\\\",\\n       \\\"is_work_related\\\": \\\"Indicates whether the applicant's work experience is related to the current application. (Yes | No)\\\",\\n       \\\"employment_type\\\": \\\"Specifies the type of employment sought by the applicant. (contractor | new employment | extension of employment)\\\",\\n       \\\"duration_of_current_employment\\\": \\\"Specifies the duration of the applicant's current employment. (more than 12 months | less than 12 months)\\\"\\n}\\n\\nYou MUST follow the rules below when generating your answer:\\n1. You must explain your answer first.\\n2. Your output should always be a json with the fields and values extracted from the user message.\\n3. Your output should remove fields which has null values.\\n\\nIf you do your BEST WORK, I'll give you a $10,000 tip!\\n\\nUser Message: My applicant is in Japan and will be back to his residence is Spain next month. He has a salary of 4000 euros.[/INST]\"\n",
            "  ]\n",
            "}\n",
            "\u001b[36;1m\u001b[1;3m[llm/end]\u001b[0m \u001b[1m[1:chain:RunnableSequence > 3:llm:Fireworks] [1.06s] Exiting LLM run with output:\n",
            "\u001b[0m{\n",
            "  \"generations\": [\n",
            "    [\n",
            "      {\n",
            "        \"text\": \" Based on the user message, here is the extracted information in JSON format:\\n\\n{\\n  \\\"residence\\\": \\\"Non European\\\",\\n  \\\"salary\\\": \\\"above 1500\\\"\\n}\\n\\nExplanation:\\n\\n1. The applicant is currently in Japan, so we cannot determine if they are a resident of a European member state country. Therefore, we set \\\"residence\\\" to \\\"Non European\\\".\\n2. The user mentioned the applicant's salary is 4000 euros, so we set \\\"salary\\\" to \\\"above 1500\\\".\\n3. Other fields like \\\"has_work_contract\\\", \\\"is_european_citizen\\\", \\\"intended_stay_in_portugal\\\", \\\"has_blue_card\\\", \\\"blue_card_duration\\\", \\\"work_experience\\\", \\\"is_work_related\\\", \\\"employment_type\\\", and \\\"duration_of_current_employment\\\" are not mentioned or cannot be determined from the user message, so they are not included in the output.\",\n",
            "        \"generation_info\": null,\n",
            "        \"type\": \"Generation\"\n",
            "      }\n",
            "    ]\n",
            "  ],\n",
            "  \"llm_output\": null,\n",
            "  \"run\": null\n",
            "}\n",
            "\u001b[36;1m\u001b[1;3m[chain/end]\u001b[0m \u001b[1m[1:chain:RunnableSequence] [1.07s] Exiting Chain run with output:\n",
            "\u001b[0m{\n",
            "  \"output\": \" Based on the user message, here is the extracted information in JSON format:\\n\\n{\\n  \\\"residence\\\": \\\"Non European\\\",\\n  \\\"salary\\\": \\\"above 1500\\\"\\n}\\n\\nExplanation:\\n\\n1. The applicant is currently in Japan, so we cannot determine if they are a resident of a European member state country. Therefore, we set \\\"residence\\\" to \\\"Non European\\\".\\n2. The user mentioned the applicant's salary is 4000 euros, so we set \\\"salary\\\" to \\\"above 1500\\\".\\n3. Other fields like \\\"has_work_contract\\\", \\\"is_european_citizen\\\", \\\"intended_stay_in_portugal\\\", \\\"has_blue_card\\\", \\\"blue_card_duration\\\", \\\"work_experience\\\", \\\"is_work_related\\\", \\\"employment_type\\\", and \\\"duration_of_current_employment\\\" are not mentioned or cannot be determined from the user message, so they are not included in the output.\"\n",
            "}\n"
          ]
        },
        {
          "output_type": "execute_result",
          "data": {
            "text/plain": [
              "' Based on the user message, here is the extracted information in JSON format:\\n\\n{\\n  \"residence\": \"Non European\",\\n  \"salary\": \"above 1500\"\\n}\\n\\nExplanation:\\n\\n1. The applicant is currently in Japan, so we cannot determine if they are a resident of a European member state country. Therefore, we set \"residence\" to \"Non European\".\\n2. The user mentioned the applicant\\'s salary is 4000 euros, so we set \"salary\" to \"above 1500\".\\n3. Other fields like \"has_work_contract\", \"is_european_citizen\", \"intended_stay_in_portugal\", \"has_blue_card\", \"blue_card_duration\", \"work_experience\", \"is_work_related\", \"employment_type\", and \"duration_of_current_employment\" are not mentioned or cannot be determined from the user message, so they are not included in the output.'"
            ],
            "application/vnd.google.colaboratory.intrinsic+json": {
              "type": "string"
            }
          },
          "metadata": {},
          "execution_count": 38
        }
      ]
    }
  ]
}