{
  "nbformat": 4,
  "nbformat_minor": 0,
  "metadata": {
    "colab": {
      "provenance": [],
      "toc_visible": true,
      "authorship_tag": "ABX9TyOtrGWfKfFZs7V/snN27LsF",
      "include_colab_link": true
    },
    "kernelspec": {
      "name": "python3",
      "display_name": "Python 3"
    },
    "language_info": {
      "name": "python"
    }
  },
  "cells": [
    {
      "cell_type": "markdown",
      "metadata": {
        "id": "view-in-github",
        "colab_type": "text"
      },
      "source": [
        "<a href=\"https://colab.research.google.com/github/joshuaalpuerto/ML-guide/blob/main/Contract_analyzer.ipynb\" target=\"_parent\"><img src=\"https://colab.research.google.com/assets/colab-badge.svg\" alt=\"Open In Colab\"/></a>"
      ]
    },
    {
      "cell_type": "code",
      "execution_count": null,
      "metadata": {
        "id": "LrVbeLETdRSx"
      },
      "outputs": [],
      "source": [
        "!pip install -qU langchain --progress-bar off\n",
        "!pip install -qU langchainhub --progress-bar off\n",
        "!pip install -qU fireworks-ai --progress-bar off\n",
        "!pip install -qU openai --progress-bar off\n",
        "!pip install -qU langchain-fireworks --progress-bar off\n",
        "!pip install -qU  pypdf --progress-bar off"
      ]
    },
    {
      "cell_type": "code",
      "source": [
        "# @title load fireworks API key\n",
        "#connect to google drive\n",
        "from google.colab import drive\n",
        "import json\n",
        "import os\n",
        "\n",
        "\n",
        "drive.mount('/content/drive')\n",
        "\n",
        "with open('/content/drive/MyDrive/env/env.json') as jsonfile:\n",
        "    env = json.load(jsonfile)\n",
        "\n",
        "os.environ[\"FIREWORKS_API_KEY\"] = env['fireworks.ai']['apiKey']"
      ],
      "metadata": {
        "colab": {
          "base_uri": "https://localhost:8080/"
        },
        "cellView": "form",
        "id": "BISqC0aEeJIP",
        "outputId": "31700a63-85f5-41b1-f2ce-bc5a7a2123bc"
      },
      "execution_count": null,
      "outputs": [
        {
          "output_type": "stream",
          "name": "stdout",
          "text": [
            "Mounted at /content/drive\n"
          ]
        }
      ]
    },
    {
      "cell_type": "code",
      "source": [
        "from langchain.globals import set_llm_cache, set_debug\n",
        "from langchain.cache import InMemoryCache\n",
        "\n",
        "set_llm_cache(InMemoryCache())\n",
        "# Turn this on only if you want to debug other wise it's hard to see the conversations.\n",
        "set_debug(True)"
      ],
      "metadata": {
        "id": "ilmtCUDckIl-"
      },
      "execution_count": null,
      "outputs": []
    },
    {
      "cell_type": "code",
      "source": [
        "from langchain_fireworks import Fireworks\n",
        "\n",
        "# Initialize a Fireworks chat model\n",
        "# For function calling we cannot use ChatFireworks integration as it doesn't properly pass functions\n",
        "llm = Fireworks(\n",
        "  model=\"accounts/fireworks/models/mixtral-8x7b-instruct\",\n",
        "  fireworks_api_key=env['fireworks.ai']['apiKey'],\n",
        "  base_url=\"https://api.fireworks.ai/inference/v1/completions\",\n",
        "  temperature= 0, max_tokens= 30000\n",
        ")"
      ],
      "metadata": {
        "id": "vrWChF2rhpXe"
      },
      "execution_count": null,
      "outputs": []
    },
    {
      "cell_type": "code",
      "source": [
        "from langchain_community.document_loaders import PyPDFLoader\n",
        "\n",
        "loader = PyPDFLoader(\"/content/drive/MyDrive/datasets/PDFS/Purchase-agreement-1.pdf\")\n",
        "splits = loader.load_and_split()"
      ],
      "metadata": {
        "id": "Cow43mvIegaB"
      },
      "execution_count": null,
      "outputs": []
    },
    {
      "cell_type": "markdown",
      "source": [
        "# General summarization"
      ],
      "metadata": {
        "id": "zUJ_k94uos7E"
      }
    },
    {
      "cell_type": "code",
      "source": [
        "from langchain.prompts import PromptTemplate\n",
        "from langchain.chains.summarize import load_summarize_chain\n",
        "\n",
        "prompt_template = (\n",
        "    \"<s>[INST]You are a realstate advisor and expert at analyzing contracts and agreements for property agreement.\\n\"\n",
        "    \"Your goal is to analyze and summarize part of the contract below, \\n\"\n",
        "    \"You must include the most relevant information for the client \"\n",
        "    \"to any prevent suprises or gotchas before signing the contract. return only the summary nothing else.:\\n\"\n",
        "    \"------------\\n\"\n",
        "    \"{text}\\n\"\n",
        "    \"------------\\n\"\n",
        "    \"DETAILED SUMMARY:[/INST]\"\n",
        ")\n",
        "\n",
        "prompt = PromptTemplate.from_template(prompt_template)\n",
        "\n",
        "refine_template = (\n",
        "    \"<s>[INST]You are a realstate advisor and expert at analyzing contracts and agreements for property agreement.\\n\"\n",
        "    \"Your job is to produce a final summary of property agreement.\\n\"\n",
        "    \"We have provided an existing summary up to a certain point: {existing_answer}\\n\"\n",
        "    \"We have the opportunity to refine the existing summary\"\n",
        "    \"(only if needed) with some more context below.\\n\"\n",
        "    \"------------\\n\"\n",
        "    \"{text}\\n\"\n",
        "    \"------------\\n\"\n",
        "    \"Given the new context, refine the original summary to provide a thorough overview of the obligations, \"\n",
        "    \"party details, termination clauses that the client needs to be aware of before signing the contract.[/INST]\"\n",
        ")\n",
        "refine_prompt = PromptTemplate.from_template(refine_template)\n",
        "chain = load_summarize_chain(\n",
        "    llm=llm,\n",
        "    chain_type=\"refine\",\n",
        "    question_prompt=prompt,\n",
        "    refine_prompt=refine_prompt,\n",
        "    return_intermediate_steps=True,\n",
        "    input_key=\"input_documents\",\n",
        "    output_key=\"output_text\",\n",
        ")\n",
        "result = chain({\"input_documents\": splits}, return_only_outputs=True)"
      ],
      "metadata": {
        "id": "gV2E06TtfLMj"
      },
      "execution_count": null,
      "outputs": []
    },
    {
      "cell_type": "code",
      "source": [
        "result"
      ],
      "metadata": {
        "id": "jum53afMsDiP"
      },
      "execution_count": null,
      "outputs": []
    },
    {
      "cell_type": "code",
      "source": [
        "intermediate_steps = result['intermediate_steps']\n",
        "for i in range(len(intermediate_steps)):\n",
        "    print(intermediate_steps[i])"
      ],
      "metadata": {
        "id": "82AehQxnnzr6"
      },
      "execution_count": null,
      "outputs": []
    },
    {
      "cell_type": "markdown",
      "source": [
        "# Risk assessment"
      ],
      "metadata": {
        "id": "q8rb2jHtoxvT"
      }
    },
    {
      "cell_type": "code",
      "source": [
        "from langchain.prompts import PromptTemplate\n",
        "from langchain.chains.summarize import load_summarize_chain\n",
        "\n",
        "prompt_template = (\n",
        "    \"<s>[INST]You are a realstate advisor and expert at analyzing contracts and agreements for property agreement.\\n\"\n",
        "    \"Your goal is to analyze and summarize part of the contract below, \\n\"\n",
        "    \"You must include the most relevant information related to risks that the buyer needs to be aware of, \"\n",
        "    \"return only the summary nothing else.:\\n\"\n",
        "    \"------------\\n\"\n",
        "    \"{text}\\n\"\n",
        "    \"------------\\n\"\n",
        "    \"DETAILED SUMMARY:[/INST]\"\n",
        ")\n",
        "\n",
        "prompt = PromptTemplate.from_template(prompt_template)\n",
        "\n",
        "refine_template = (\n",
        "    \"<s>[INST]You are a realstate advisor and expert at analyzing contracts and agreements for property agreement.\\n\"\n",
        "    \"Your job is to produce a final summary of property agreement.\\n\"\n",
        "    \"We have provided an existing summary up to a certain point: {existing_answer}\\n\"\n",
        "    \"We have the opportunity to refine the existing summary\"\n",
        "    \"(only if needed) with some more context below.\\n\"\n",
        "    \"------------\\n\"\n",
        "    \"{text}\\n\"\n",
        "    \"------------\\n\"\n",
        "    \"Given the new context, refine the original summary to provide a thorough overview of the obligations, \"\n",
        "    \"risks and termination clauses that the client needs to be aware of before signing the contract.[/INST]\"\n",
        ")\n",
        "refine_prompt = PromptTemplate.from_template(refine_template)\n",
        "chain = load_summarize_chain(\n",
        "    llm=llm,\n",
        "    chain_type=\"refine\",\n",
        "    question_prompt=prompt,\n",
        "    refine_prompt=refine_prompt,\n",
        "    return_intermediate_steps=True,\n",
        "    input_key=\"input_documents\",\n",
        "    output_key=\"output_text\",\n",
        ")\n",
        "result = chain({\"input_documents\": splits}, return_only_outputs=True)"
      ],
      "metadata": {
        "id": "fVE6_cRQo13a"
      },
      "execution_count": null,
      "outputs": []
    }
  ]
}