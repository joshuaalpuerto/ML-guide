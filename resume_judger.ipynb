{
  "nbformat": 4,
  "nbformat_minor": 0,
  "metadata": {
    "colab": {
      "provenance": [],
      "authorship_tag": "ABX9TyOhBZ5E/WyVR42QzS4zCLyK",
      "include_colab_link": true
    },
    "kernelspec": {
      "name": "python3",
      "display_name": "Python 3"
    },
    "language_info": {
      "name": "python"
    }
  },
  "cells": [
    {
      "cell_type": "markdown",
      "metadata": {
        "id": "view-in-github",
        "colab_type": "text"
      },
      "source": [
        "<a href=\"https://colab.research.google.com/github/joshuaalpuerto/ML-guide/blob/main/resume_judger.ipynb\" target=\"_parent\"><img src=\"https://colab.research.google.com/assets/colab-badge.svg\" alt=\"Open In Colab\"/></a>"
      ]
    },
    {
      "cell_type": "markdown",
      "source": [
        "https://medium.com/neuml/judge-your-resume-with-ai-4223a2803509"
      ],
      "metadata": {
        "id": "8Hkbf2i5zzEM"
      }
    },
    {
      "cell_type": "code",
      "execution_count": 1,
      "metadata": {
        "id": "KUuZVCZsxFsE"
      },
      "outputs": [],
      "source": [
        "!pip install -q pypdf --progress-bar off\n",
        "!pip install -qU langchain --progress-bar off"
      ]
    },
    {
      "cell_type": "code",
      "source": [
        "from google.colab import files\n",
        "resume = files.upload()"
      ],
      "metadata": {
        "colab": {
          "base_uri": "https://localhost:8080/",
          "height": 74
        },
        "id": "1_nBuGGG16rF",
        "outputId": "626c7d57-5b9c-4c48-d4e5-d2977a1b7741"
      },
      "execution_count": 3,
      "outputs": [
        {
          "output_type": "display_data",
          "data": {
            "text/plain": [
              "<IPython.core.display.HTML object>"
            ],
            "text/html": [
              "\n",
              "     <input type=\"file\" id=\"files-f52d0870-a30f-4931-9e17-35c7f350893a\" name=\"files[]\" multiple disabled\n",
              "        style=\"border:none\" />\n",
              "     <output id=\"result-f52d0870-a30f-4931-9e17-35c7f350893a\">\n",
              "      Upload widget is only available when the cell has been executed in the\n",
              "      current browser session. Please rerun this cell to enable.\n",
              "      </output>\n",
              "      <script>// Copyright 2017 Google LLC\n",
              "//\n",
              "// Licensed under the Apache License, Version 2.0 (the \"License\");\n",
              "// you may not use this file except in compliance with the License.\n",
              "// You may obtain a copy of the License at\n",
              "//\n",
              "//      http://www.apache.org/licenses/LICENSE-2.0\n",
              "//\n",
              "// Unless required by applicable law or agreed to in writing, software\n",
              "// distributed under the License is distributed on an \"AS IS\" BASIS,\n",
              "// WITHOUT WARRANTIES OR CONDITIONS OF ANY KIND, either express or implied.\n",
              "// See the License for the specific language governing permissions and\n",
              "// limitations under the License.\n",
              "\n",
              "/**\n",
              " * @fileoverview Helpers for google.colab Python module.\n",
              " */\n",
              "(function(scope) {\n",
              "function span(text, styleAttributes = {}) {\n",
              "  const element = document.createElement('span');\n",
              "  element.textContent = text;\n",
              "  for (const key of Object.keys(styleAttributes)) {\n",
              "    element.style[key] = styleAttributes[key];\n",
              "  }\n",
              "  return element;\n",
              "}\n",
              "\n",
              "// Max number of bytes which will be uploaded at a time.\n",
              "const MAX_PAYLOAD_SIZE = 100 * 1024;\n",
              "\n",
              "function _uploadFiles(inputId, outputId) {\n",
              "  const steps = uploadFilesStep(inputId, outputId);\n",
              "  const outputElement = document.getElementById(outputId);\n",
              "  // Cache steps on the outputElement to make it available for the next call\n",
              "  // to uploadFilesContinue from Python.\n",
              "  outputElement.steps = steps;\n",
              "\n",
              "  return _uploadFilesContinue(outputId);\n",
              "}\n",
              "\n",
              "// This is roughly an async generator (not supported in the browser yet),\n",
              "// where there are multiple asynchronous steps and the Python side is going\n",
              "// to poll for completion of each step.\n",
              "// This uses a Promise to block the python side on completion of each step,\n",
              "// then passes the result of the previous step as the input to the next step.\n",
              "function _uploadFilesContinue(outputId) {\n",
              "  const outputElement = document.getElementById(outputId);\n",
              "  const steps = outputElement.steps;\n",
              "\n",
              "  const next = steps.next(outputElement.lastPromiseValue);\n",
              "  return Promise.resolve(next.value.promise).then((value) => {\n",
              "    // Cache the last promise value to make it available to the next\n",
              "    // step of the generator.\n",
              "    outputElement.lastPromiseValue = value;\n",
              "    return next.value.response;\n",
              "  });\n",
              "}\n",
              "\n",
              "/**\n",
              " * Generator function which is called between each async step of the upload\n",
              " * process.\n",
              " * @param {string} inputId Element ID of the input file picker element.\n",
              " * @param {string} outputId Element ID of the output display.\n",
              " * @return {!Iterable<!Object>} Iterable of next steps.\n",
              " */\n",
              "function* uploadFilesStep(inputId, outputId) {\n",
              "  const inputElement = document.getElementById(inputId);\n",
              "  inputElement.disabled = false;\n",
              "\n",
              "  const outputElement = document.getElementById(outputId);\n",
              "  outputElement.innerHTML = '';\n",
              "\n",
              "  const pickedPromise = new Promise((resolve) => {\n",
              "    inputElement.addEventListener('change', (e) => {\n",
              "      resolve(e.target.files);\n",
              "    });\n",
              "  });\n",
              "\n",
              "  const cancel = document.createElement('button');\n",
              "  inputElement.parentElement.appendChild(cancel);\n",
              "  cancel.textContent = 'Cancel upload';\n",
              "  const cancelPromise = new Promise((resolve) => {\n",
              "    cancel.onclick = () => {\n",
              "      resolve(null);\n",
              "    };\n",
              "  });\n",
              "\n",
              "  // Wait for the user to pick the files.\n",
              "  const files = yield {\n",
              "    promise: Promise.race([pickedPromise, cancelPromise]),\n",
              "    response: {\n",
              "      action: 'starting',\n",
              "    }\n",
              "  };\n",
              "\n",
              "  cancel.remove();\n",
              "\n",
              "  // Disable the input element since further picks are not allowed.\n",
              "  inputElement.disabled = true;\n",
              "\n",
              "  if (!files) {\n",
              "    return {\n",
              "      response: {\n",
              "        action: 'complete',\n",
              "      }\n",
              "    };\n",
              "  }\n",
              "\n",
              "  for (const file of files) {\n",
              "    const li = document.createElement('li');\n",
              "    li.append(span(file.name, {fontWeight: 'bold'}));\n",
              "    li.append(span(\n",
              "        `(${file.type || 'n/a'}) - ${file.size} bytes, ` +\n",
              "        `last modified: ${\n",
              "            file.lastModifiedDate ? file.lastModifiedDate.toLocaleDateString() :\n",
              "                                    'n/a'} - `));\n",
              "    const percent = span('0% done');\n",
              "    li.appendChild(percent);\n",
              "\n",
              "    outputElement.appendChild(li);\n",
              "\n",
              "    const fileDataPromise = new Promise((resolve) => {\n",
              "      const reader = new FileReader();\n",
              "      reader.onload = (e) => {\n",
              "        resolve(e.target.result);\n",
              "      };\n",
              "      reader.readAsArrayBuffer(file);\n",
              "    });\n",
              "    // Wait for the data to be ready.\n",
              "    let fileData = yield {\n",
              "      promise: fileDataPromise,\n",
              "      response: {\n",
              "        action: 'continue',\n",
              "      }\n",
              "    };\n",
              "\n",
              "    // Use a chunked sending to avoid message size limits. See b/62115660.\n",
              "    let position = 0;\n",
              "    do {\n",
              "      const length = Math.min(fileData.byteLength - position, MAX_PAYLOAD_SIZE);\n",
              "      const chunk = new Uint8Array(fileData, position, length);\n",
              "      position += length;\n",
              "\n",
              "      const base64 = btoa(String.fromCharCode.apply(null, chunk));\n",
              "      yield {\n",
              "        response: {\n",
              "          action: 'append',\n",
              "          file: file.name,\n",
              "          data: base64,\n",
              "        },\n",
              "      };\n",
              "\n",
              "      let percentDone = fileData.byteLength === 0 ?\n",
              "          100 :\n",
              "          Math.round((position / fileData.byteLength) * 100);\n",
              "      percent.textContent = `${percentDone}% done`;\n",
              "\n",
              "    } while (position < fileData.byteLength);\n",
              "  }\n",
              "\n",
              "  // All done.\n",
              "  yield {\n",
              "    response: {\n",
              "      action: 'complete',\n",
              "    }\n",
              "  };\n",
              "}\n",
              "\n",
              "scope.google = scope.google || {};\n",
              "scope.google.colab = scope.google.colab || {};\n",
              "scope.google.colab._files = {\n",
              "  _uploadFiles,\n",
              "  _uploadFilesContinue,\n",
              "};\n",
              "})(self);\n",
              "</script> "
            ]
          },
          "metadata": {}
        },
        {
          "output_type": "stream",
          "name": "stdout",
          "text": [
            "Saving Alpuerto_Joshua_C_CV.pdf to Alpuerto_Joshua_C_CV.pdf\n"
          ]
        }
      ]
    },
    {
      "cell_type": "code",
      "source": [
        "from langchain.document_loaders import PyPDFLoader\n",
        "\n",
        "loader = PyPDFLoader(\"Alpuerto_Joshua_C_CV.pdf\")\n",
        "pages = loader.load_and_split()"
      ],
      "metadata": {
        "id": "ZeQsfwH62EdF"
      },
      "execution_count": 6,
      "outputs": []
    },
    {
      "cell_type": "code",
      "source": [
        "pages"
      ],
      "metadata": {
        "colab": {
          "base_uri": "https://localhost:8080/"
        },
        "id": "0RqyCimc2lnd",
        "outputId": "85d7a41d-70f1-4703-9fbe-db604e3dfa12"
      },
      "execution_count": 7,
      "outputs": [
        {
          "output_type": "execute_result",
          "data": {
            "text/plain": [
              "[Document(page_content=\"JoshuaC.Alpuerto\\nE-MAILADDRESS:joshuacalpuerto@gmail.comMOBILE/TELEPHONE:37254005969URL:https://github.com/joshuaalpuerto/https://www.linkedin.com/in/joshua-alpuerto/https://www.polywork.com/joshuacalpuerto\\nStaffEngineer\\n FullSoftwareLifecycle\\n▪JavascriptDevelopment\\n▪EnterpriseDevelopment\\n▪MobileDevelopment\\n \\nAs e n i o rs o f t w a r ee n g i n e e rw i t ho v e r1 0y e a r sc o m m e r c i a le x p e r i e n c ei ns o f t w a r ed e v e l o p m e n t .E x p e r i e n c ei nl e a d i n gt e a m s ,m e n t o r i n ge n g i n e e r sa n ds o f t w a r ea r c h i t e c t u r e .\\nEMPLOYMENTRECORDS\\n●JobbaticalTallinn,EstoniaJun2019–Present\\n○Staffengineer\\n■Involvedinprojectplanningandpreparationtoaidinclosingknowledgegapswithintheteam,allowingforquickerdeliveryandmoreproductivity. \\n■Suggestedandimplementedtoolsandtechnologytoimproveourworkflows,therebyincreasingouroverallproceduresandresults. \\n■Utilizedvarioustoolsandtechniquestooptimizeourapplicationperformance,bothontheclientsideandbackend.Thishelpedtoensureaseamlessandefficientuserexperience.\\n○SeniorFullStackEngineer\\n■Learnedandsuccessfullydeployedourapplicationsusingtherighttools:NextJSandGraphQLtoenhancethedeveloperexperienceandimprovetheefficiencyofourworkflows. \\n■Implementedanalyticstoolstotrackapplicationusage,enablingustomakedata-drivendecisionsandbetterunderstandourusers'needsandpreferences. \\n■Usingtoolsandtechniquestoimprovetheperformanceofourapplications,resultinginsignificantcostsavings. \\n■Expertlyutilizeddatabaseanalysistoolstoidentifyandresolveperformanceissues,leadingtoimprovedapplicationperformanceandreduceddatabaseload.\\n●SocialOffshoreEastwood,QuezonCityMay2016–May2019\\n○SeniorFullStackDeveloper\\n■DemonstratedacommitmenttocontinuouslearningandimprovementbytakingtheinitiativetolearnReactandkeepupwithbestpracticesinJavaScript \\n■ImprovedeveloperexperiencebysuccessfullyintegratingCI/CDpipelinesintonewprojects,allowingforautomatedbuilding,testing,anddeploymentofsoftwaretoproduction. \\n■DemonstratedexpertiseinimplementingDomain-DrivenDesign(DDD)principlestobuildrobust,maintainable,andscalableapplications,resultinginimprovedoverallsystemarchitectureanddesign.\", metadata={'source': 'Alpuerto_Joshua_C_CV.pdf', 'page': 0}),\n",
              " Document(page_content=\"■ProactivelyrecommendedandimplementedProgressiveWebApp(PWA)technologytoenhancetheclient'suserexperience,leadingtoincreaseduserengagementandretention. \\n■Successfullyoptimizedtheperformanceofadata-heavyclientapplicationbyusingvariousoptimizationtechniques,resultinginreducedloadtimesandimprovedoverallapplicationspeedandresponsiveness.\\n●Activemindz/SyncITVisayasAve,QuezonCityApr2014–Apr2016\\n○SeniorWebDeveloper\\n■UtilizedPhoneGaptodevelopmobileapplicationsforclientshenceexpandingtherangeofservicesofferedbythecompany. \\n■SpearheadedaprojectfocusedonServerandClientarchitecture(SPA),resultinginasignificantimprovementindeveloperexperienceandoverallcodequality. \\n■Demonstratingexcellentanalyticalandstrategicthinkingskillsbycontributingtocompanycostsavingsbyrecommendingthird-partysolutionsinsteadofcostlycustomdevelopment,demonstratingexcellentanalyticalandstrategicthinkingskills. \\n■Enhancedtheorganization'sreputationbyacceptingownershipforaccomplishingnewanddifferentrequestsandexploringopportunitiestoaddvaluetojobaccomplishments. \\n■Demonstratedexcellentcommunicationandcollaborationskillsbygatheringcomprehensiverequirementstodeliversolutionsthatsatisfytheclient'sgoals.\\n●LifewareTechnologyInc.Eastwood,QuezonCityApr2013–March2014\\n○WebDeveloper\\n■AcquiredknowledgeandskilltointegrateGSMmodemtopowerwebapplicationsfordisastermanagement,whichcontributedtopublicsafetythroughpartnershipwiththeGovernment.\\n■Demonstratedexcellenttimemanagementskillsasajuniorandsolodeveloper,ensuringtimelydeliveryofprojectswithoutcompromisingquality.\\n■Successfullytookownershipofprojectsandtimelines,deliveringprojectswithingivendeadlines.\\n■Developedathoroughunderstandingofthesoftwaredevelopmentcycle,includingrequirementgathering,design,development,testing,anddeployment.\\n \\nSKILLS:\\nSoftSkills:Ownership,Collaborative,Curious,ProblemSolver,Empathic,CriticalThinker\\nTechnicalSkills:\\n●FrontendDevelopment:ReactJS(NextJS,Redux,GraphQL),Javascript(uptoECMAScript2021),HTML5,CSS(Designsystem,Styled),UserExperience\\n●BackendDevelopment:PHP,NodeJS(Express,GraphQ,REST),Python,Database(MySQL,Postgres&MongoDB),CI/CD\\n●MobileDevelopment:Phonegap,ReactNative\\n●Testing:Jest,Cypress,Playwright\\n●Cloud:Googlecloud,Netlify,Heroku,Vercel\\nFieldofInterest:MachineLearning,FunctionalProgramming,Automation/Productivity\", metadata={'source': 'Alpuerto_Joshua_C_CV.pdf', 'page': 1}),\n",
              " Document(page_content='EDUCATIONALBACKGROUND:\\nPrimary1996-2002-MotherofPerpetualHelpSchool\\nSecondary2005-2006-UniversityofCebu–Lapu-Lapu&Mandaue\\nTertiary2008-2011-AMAComputerLearningCenter\\nComputerSystemDesignandProgramming\\nPERSONALINFORMATION\\nGENDER:MaleCIVILSTATUS:Married\\nBIRTHDATE:September16,1989BIRTHPLACE:Taguig,MetroManila\\nCITIZENSHIP:FilipinoRELIGION:RomanCatholic\\nI\\nhereby\\ncertify\\nthat\\nthe\\ninformation\\ngiven\\nabove\\nis\\ntrue\\nand\\ncorrect\\nto\\nthe\\nbest\\nof \\nmy\\nknowledge\\nand\\nability .\\nJoshuaC.Alpuerto', metadata={'source': 'Alpuerto_Joshua_C_CV.pdf', 'page': 2})]"
            ]
          },
          "metadata": {},
          "execution_count": 7
        }
      ]
    }
  ]
}