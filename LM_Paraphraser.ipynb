{
  "nbformat": 4,
  "nbformat_minor": 0,
  "metadata": {
    "colab": {
      "provenance": [],
      "toc_visible": true,
      "authorship_tag": "ABX9TyPbS4Rw2PxQJfgGI/ktuNgO",
      "include_colab_link": true
    },
    "kernelspec": {
      "name": "python3",
      "display_name": "Python 3"
    },
    "language_info": {
      "name": "python"
    }
  },
  "cells": [
    {
      "cell_type": "markdown",
      "metadata": {
        "id": "view-in-github",
        "colab_type": "text"
      },
      "source": [
        "<a href=\"https://colab.research.google.com/github/joshuaalpuerto/ML-guide/blob/main/LM_Paraphraser.ipynb\" target=\"_parent\"><img src=\"https://colab.research.google.com/assets/colab-badge.svg\" alt=\"Open In Colab\"/></a>"
      ]
    },
    {
      "cell_type": "code",
      "execution_count": null,
      "metadata": {
        "id": "ROwGsP__u41I"
      },
      "outputs": [],
      "source": [
        "%%bash\n",
        "\n",
        "pip install numpy requests nlpaug augly textacy datasets\n",
        "pip install torch>=1.6.0 transformers>=4.11.3 sentencepiece\n",
        "pip install git+https://github.com/PrithivirajDamodaran/Parrot_Paraphraser.git"
      ]
    },
    {
      "cell_type": "code",
      "source": [
        "from google.colab import drive\n",
        "drive.mount('/content/drive')"
      ],
      "metadata": {
        "id": "Ecp6HJ11u8jt"
      },
      "execution_count": null,
      "outputs": []
    },
    {
      "cell_type": "markdown",
      "source": [
        "# Parrot"
      ],
      "metadata": {
        "id": "L7Ls9iBiwPIt"
      }
    },
    {
      "cell_type": "code",
      "source": [
        "from parrot import Parrot\n",
        "import torch\n",
        "import warnings\n",
        "warnings.filterwarnings(\"ignore\")\n",
        "\n",
        "def random_state(seed):\n",
        "  torch.manual_seed(seed)\n",
        "  if torch.cuda.is_available():\n",
        "    torch.cuda.manual_seed_all(seed)\n",
        "\n",
        "random_state(1234)\n",
        "\n",
        "#Init models (make sure you init ONLY once if you integrate this to your code)\n",
        "parrot = Parrot(model_tag=\"prithivida/parrot_paraphraser_on_T5\")"
      ],
      "metadata": {
        "id": "YhzLnyPawQ7H"
      },
      "execution_count": null,
      "outputs": []
    },
    {
      "cell_type": "code",
      "source": [
        "\n",
        "phrases = [\"What are the best places to see in New York?\"]\n",
        "\n",
        "def para_phrase_augmenter(phrase):\n",
        "  para_phrases = parrot.augment(input_phrase=phrase,\n",
        "                               use_gpu=True,\n",
        "                               diversity_ranker=\"levenshtein\",\n",
        "                               do_diverse=False,\n",
        "                               max_return_phrases = 3,\n",
        "                               max_length=50,\n",
        "                               adequacy_threshold = 0.30,\n",
        "                               fluency_threshold = 0.10)\n",
        "  try:\n",
        "    results = [para_phrase[0] for para_phrase in para_phrases]\n",
        "  except TypeError:\n",
        "    return []\n",
        "\n",
        "  return results\n",
        "\n",
        "\n",
        "for phrase in phrases:\n",
        "  print(\"-\"*100)\n",
        "  print(\"Input_phrase: \", phrase)\n",
        "  print(\"-\"*100)\n",
        "  para_phrases = para_phrase_augmenter(phrase)\n",
        "  for para_phrase in para_phrases:\n",
        "   print(para_phrase)\n"
      ],
      "metadata": {
        "id": "hOwg_xuwwUoC"
      },
      "execution_count": null,
      "outputs": []
    },
    {
      "cell_type": "markdown",
      "source": [
        "# humarin/chatgpt_paraphraser_on_T5_base"
      ],
      "metadata": {
        "id": "W_jrf_-cwk_l"
      }
    },
    {
      "cell_type": "code",
      "source": [
        "from transformers import AutoTokenizer, AutoModelForSeq2SeqLM\n",
        "\n",
        "device = \"cuda\"\n",
        "\n",
        "tokenizer = AutoTokenizer.from_pretrained(\"humarin/chatgpt_paraphraser_on_T5_base\")\n",
        "model = AutoModelForSeq2SeqLM.from_pretrained(\"humarin/chatgpt_paraphraser_on_T5_base\").to(device)"
      ],
      "metadata": {
        "id": "nrS4APVLwn4S"
      },
      "execution_count": null,
      "outputs": []
    },
    {
      "cell_type": "code",
      "source": [
        "def paraphrase(\n",
        "    question,\n",
        "    num_beams=5,\n",
        "    num_beam_groups=5,\n",
        "    num_return_sequences=5,\n",
        "    repetition_penalty=10.0,\n",
        "    diversity_penalty=3.0,\n",
        "    no_repeat_ngram_size=2,\n",
        "    temperature=0.7,\n",
        "    max_length=128\n",
        "):\n",
        "    input_ids = tokenizer(\n",
        "        f'paraphrase: {question}',\n",
        "        return_tensors=\"pt\", padding=\"longest\",\n",
        "        max_length=max_length,\n",
        "        truncation=True,\n",
        "    ).input_ids\n",
        "\n",
        "    outputs = model.generate(\n",
        "        input_ids, temperature=temperature, repetition_penalty=repetition_penalty,\n",
        "        num_return_sequences=num_return_sequences, no_repeat_ngram_size=no_repeat_ngram_size,\n",
        "        num_beams=num_beams, num_beam_groups=num_beam_groups,\n",
        "        max_length=max_length, diversity_penalty=diversity_penalty\n",
        "    )\n",
        "\n",
        "    res = tokenizer.batch_decode(outputs, skip_special_tokens=True)\n",
        "\n",
        "    return res"
      ],
      "metadata": {
        "id": "NrdivnIHwqTn"
      },
      "execution_count": null,
      "outputs": []
    }
  ]
}